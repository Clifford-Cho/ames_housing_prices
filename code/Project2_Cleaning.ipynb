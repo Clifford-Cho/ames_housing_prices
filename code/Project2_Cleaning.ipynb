{
 "cells": [
  {
   "cell_type": "markdown",
   "id": "bbcf9da4",
   "metadata": {},
   "source": [
    "# Identifying Ames, Iowa Housing Prices - Data Cleaning"
   ]
  },
  {
   "cell_type": "markdown",
   "id": "795f11cb",
   "metadata": {},
   "source": [
    "## Problem Statement\n",
    "\n",
    "Real estate is a stressful process for buyers due to the pressure of making the \"right\" choice. The most important factor in a sale is the bottom line, but properly pricing a house is difficult, especially for those unfamiliar with real estate. One way this can be done is by identifying what special factors best explain a house's value and seeing how these factors predict sale price. This can be useful for both sellers trying to price their property and buyers trying to make a knowledgeable investment.\n",
    "\n",
    "This project will look at data regarding the Ames, Iowa housing market to give insight on what features heavily affect sale price. This will be achieved by creating a linear regression model on the given features."
   ]
  },
  {
   "cell_type": "markdown",
   "id": "4cdcfe4e",
   "metadata": {},
   "source": [
    "## Contents:\n",
    "- [Background](#Background)\n",
    "- [Data Cleaning and Preliminary EDA](#Data-Cleaning-and-Preliminary-EDA)\n",
    "    - [Area](#Area)\n",
    "    - [Quality](#Quality)\n",
    "    - [Location](#Location)\n",
    "    - [Details](#Details)\n",
    "- [Exporting](#Exporting)"
   ]
  },
  {
   "cell_type": "markdown",
   "id": "9756b7bb",
   "metadata": {},
   "source": [
    "## Background"
   ]
  },
  {
   "cell_type": "markdown",
   "id": "d2d6caef",
   "metadata": {},
   "source": [
    "The value of a house is difficult to calculate due to the sheer number of features inherent. This is made doubly complex by customer preferences and inquiries into specific details. The Ames housing training dataset contains over 80 columns of data for over 2000 houses. These columns are divided into numerical and categorical data. The indepth explanation and categories for each column can be found [here](https://www.kaggle.com/c/dsir-712-project-2-regression-challenge/data).\n",
    "\n",
    "With this is mind, the project will focus on identifying primary aspects of the house and features to explain them. \n",
    "These include:\n",
    "- Area - Indoor and outdoor\n",
    "- Quality - Materials and reported quality\n",
    "- Location - Neighborhood and condition relative to markers\n",
    "- Details - Time of construction/remodeling, house style, etc.\n",
    "\n",
    "For features concerned with quality, multiple types of scales are present:\n",
    "- 1-10 scale - Very Poor to Very Excellent\n",
    "- 6 category scale - None, Poor, Fair, Average, Good, Excellent\n",
    "- 5+ category scale - Some features have unique categories similar to the above style but with different wording.\n",
    "\n",
    "Each of these sections will then be pruned based on preliminary correlation data."
   ]
  },
  {
   "cell_type": "markdown",
   "id": "819d2700",
   "metadata": {},
   "source": [
    "## Data Cleaning and Preliminary EDA"
   ]
  },
  {
   "cell_type": "code",
   "execution_count": 49,
   "id": "c82b1cdd",
   "metadata": {},
   "outputs": [],
   "source": [
    "# Import for Data Cleaning\n",
    "import numpy as np\n",
    "import pandas as pd\n",
    "import matplotlib.pyplot as plt\n",
    "import seaborn as sns"
   ]
  },
  {
   "cell_type": "code",
   "execution_count": 50,
   "id": "ca719b69",
   "metadata": {},
   "outputs": [],
   "source": [
    "# Getting dataframes\n",
    "test_df = pd.read_csv('../datasets/test.csv')\n",
    "df = pd.read_csv('../datasets/train.csv')\n",
    "sample = pd.read_csv('../datasets/sample_sub_reg.csv')"
   ]
  },
  {
   "cell_type": "code",
   "execution_count": 51,
   "id": "24663c88",
   "metadata": {},
   "outputs": [],
   "source": [
    "# Clean names function\n",
    "def clean_col(dataframe):\n",
    "    return dataframe.columns.str.replace(' ', '_').str.lower()\n",
    "\n",
    "test_df.columns = clean_col(test_df)\n",
    "df.columns = clean_col(df)"
   ]
  },
  {
   "cell_type": "code",
   "execution_count": 52,
   "id": "fb48100c",
   "metadata": {},
   "outputs": [
    {
     "data": {
      "text/html": [
       "<div>\n",
       "<style scoped>\n",
       "    .dataframe tbody tr th:only-of-type {\n",
       "        vertical-align: middle;\n",
       "    }\n",
       "\n",
       "    .dataframe tbody tr th {\n",
       "        vertical-align: top;\n",
       "    }\n",
       "\n",
       "    .dataframe thead th {\n",
       "        text-align: right;\n",
       "    }\n",
       "</style>\n",
       "<table border=\"1\" class=\"dataframe\">\n",
       "  <thead>\n",
       "    <tr style=\"text-align: right;\">\n",
       "      <th></th>\n",
       "      <th>id</th>\n",
       "      <th>pid</th>\n",
       "      <th>ms_subclass</th>\n",
       "      <th>ms_zoning</th>\n",
       "      <th>lot_frontage</th>\n",
       "      <th>lot_area</th>\n",
       "      <th>street</th>\n",
       "      <th>alley</th>\n",
       "      <th>lot_shape</th>\n",
       "      <th>land_contour</th>\n",
       "      <th>...</th>\n",
       "      <th>screen_porch</th>\n",
       "      <th>pool_area</th>\n",
       "      <th>pool_qc</th>\n",
       "      <th>fence</th>\n",
       "      <th>misc_feature</th>\n",
       "      <th>misc_val</th>\n",
       "      <th>mo_sold</th>\n",
       "      <th>yr_sold</th>\n",
       "      <th>sale_type</th>\n",
       "      <th>saleprice</th>\n",
       "    </tr>\n",
       "  </thead>\n",
       "  <tbody>\n",
       "    <tr>\n",
       "      <th>0</th>\n",
       "      <td>109</td>\n",
       "      <td>533352170</td>\n",
       "      <td>60</td>\n",
       "      <td>RL</td>\n",
       "      <td>NaN</td>\n",
       "      <td>13517</td>\n",
       "      <td>Pave</td>\n",
       "      <td>NaN</td>\n",
       "      <td>IR1</td>\n",
       "      <td>Lvl</td>\n",
       "      <td>...</td>\n",
       "      <td>0</td>\n",
       "      <td>0</td>\n",
       "      <td>NaN</td>\n",
       "      <td>NaN</td>\n",
       "      <td>NaN</td>\n",
       "      <td>0</td>\n",
       "      <td>3</td>\n",
       "      <td>2010</td>\n",
       "      <td>WD</td>\n",
       "      <td>130500</td>\n",
       "    </tr>\n",
       "    <tr>\n",
       "      <th>1</th>\n",
       "      <td>544</td>\n",
       "      <td>531379050</td>\n",
       "      <td>60</td>\n",
       "      <td>RL</td>\n",
       "      <td>43.0</td>\n",
       "      <td>11492</td>\n",
       "      <td>Pave</td>\n",
       "      <td>NaN</td>\n",
       "      <td>IR1</td>\n",
       "      <td>Lvl</td>\n",
       "      <td>...</td>\n",
       "      <td>0</td>\n",
       "      <td>0</td>\n",
       "      <td>NaN</td>\n",
       "      <td>NaN</td>\n",
       "      <td>NaN</td>\n",
       "      <td>0</td>\n",
       "      <td>4</td>\n",
       "      <td>2009</td>\n",
       "      <td>WD</td>\n",
       "      <td>220000</td>\n",
       "    </tr>\n",
       "    <tr>\n",
       "      <th>2</th>\n",
       "      <td>153</td>\n",
       "      <td>535304180</td>\n",
       "      <td>20</td>\n",
       "      <td>RL</td>\n",
       "      <td>68.0</td>\n",
       "      <td>7922</td>\n",
       "      <td>Pave</td>\n",
       "      <td>NaN</td>\n",
       "      <td>Reg</td>\n",
       "      <td>Lvl</td>\n",
       "      <td>...</td>\n",
       "      <td>0</td>\n",
       "      <td>0</td>\n",
       "      <td>NaN</td>\n",
       "      <td>NaN</td>\n",
       "      <td>NaN</td>\n",
       "      <td>0</td>\n",
       "      <td>1</td>\n",
       "      <td>2010</td>\n",
       "      <td>WD</td>\n",
       "      <td>109000</td>\n",
       "    </tr>\n",
       "    <tr>\n",
       "      <th>3</th>\n",
       "      <td>318</td>\n",
       "      <td>916386060</td>\n",
       "      <td>60</td>\n",
       "      <td>RL</td>\n",
       "      <td>73.0</td>\n",
       "      <td>9802</td>\n",
       "      <td>Pave</td>\n",
       "      <td>NaN</td>\n",
       "      <td>Reg</td>\n",
       "      <td>Lvl</td>\n",
       "      <td>...</td>\n",
       "      <td>0</td>\n",
       "      <td>0</td>\n",
       "      <td>NaN</td>\n",
       "      <td>NaN</td>\n",
       "      <td>NaN</td>\n",
       "      <td>0</td>\n",
       "      <td>4</td>\n",
       "      <td>2010</td>\n",
       "      <td>WD</td>\n",
       "      <td>174000</td>\n",
       "    </tr>\n",
       "    <tr>\n",
       "      <th>4</th>\n",
       "      <td>255</td>\n",
       "      <td>906425045</td>\n",
       "      <td>50</td>\n",
       "      <td>RL</td>\n",
       "      <td>82.0</td>\n",
       "      <td>14235</td>\n",
       "      <td>Pave</td>\n",
       "      <td>NaN</td>\n",
       "      <td>IR1</td>\n",
       "      <td>Lvl</td>\n",
       "      <td>...</td>\n",
       "      <td>0</td>\n",
       "      <td>0</td>\n",
       "      <td>NaN</td>\n",
       "      <td>NaN</td>\n",
       "      <td>NaN</td>\n",
       "      <td>0</td>\n",
       "      <td>3</td>\n",
       "      <td>2010</td>\n",
       "      <td>WD</td>\n",
       "      <td>138500</td>\n",
       "    </tr>\n",
       "  </tbody>\n",
       "</table>\n",
       "<p>5 rows × 81 columns</p>\n",
       "</div>"
      ],
      "text/plain": [
       "    id        pid  ms_subclass ms_zoning  lot_frontage  lot_area street alley  \\\n",
       "0  109  533352170           60        RL           NaN     13517   Pave   NaN   \n",
       "1  544  531379050           60        RL          43.0     11492   Pave   NaN   \n",
       "2  153  535304180           20        RL          68.0      7922   Pave   NaN   \n",
       "3  318  916386060           60        RL          73.0      9802   Pave   NaN   \n",
       "4  255  906425045           50        RL          82.0     14235   Pave   NaN   \n",
       "\n",
       "  lot_shape land_contour  ... screen_porch pool_area pool_qc fence  \\\n",
       "0       IR1          Lvl  ...            0         0     NaN   NaN   \n",
       "1       IR1          Lvl  ...            0         0     NaN   NaN   \n",
       "2       Reg          Lvl  ...            0         0     NaN   NaN   \n",
       "3       Reg          Lvl  ...            0         0     NaN   NaN   \n",
       "4       IR1          Lvl  ...            0         0     NaN   NaN   \n",
       "\n",
       "  misc_feature misc_val mo_sold yr_sold  sale_type  saleprice  \n",
       "0          NaN        0       3    2010        WD      130500  \n",
       "1          NaN        0       4    2009        WD      220000  \n",
       "2          NaN        0       1    2010        WD      109000  \n",
       "3          NaN        0       4    2010        WD      174000  \n",
       "4          NaN        0       3    2010        WD      138500  \n",
       "\n",
       "[5 rows x 81 columns]"
      ]
     },
     "execution_count": 52,
     "metadata": {},
     "output_type": "execute_result"
    }
   ],
   "source": [
    "# General look into data\n",
    "df.head()"
   ]
  },
  {
   "cell_type": "code",
   "execution_count": 53,
   "id": "041baaa0",
   "metadata": {},
   "outputs": [
    {
     "data": {
      "text/html": [
       "<div>\n",
       "<style scoped>\n",
       "    .dataframe tbody tr th:only-of-type {\n",
       "        vertical-align: middle;\n",
       "    }\n",
       "\n",
       "    .dataframe tbody tr th {\n",
       "        vertical-align: top;\n",
       "    }\n",
       "\n",
       "    .dataframe thead th {\n",
       "        text-align: right;\n",
       "    }\n",
       "</style>\n",
       "<table border=\"1\" class=\"dataframe\">\n",
       "  <thead>\n",
       "    <tr style=\"text-align: right;\">\n",
       "      <th></th>\n",
       "      <th>id</th>\n",
       "      <th>pid</th>\n",
       "      <th>ms_subclass</th>\n",
       "      <th>lot_frontage</th>\n",
       "      <th>lot_area</th>\n",
       "      <th>overall_qual</th>\n",
       "      <th>overall_cond</th>\n",
       "      <th>year_built</th>\n",
       "      <th>year_remod/add</th>\n",
       "      <th>mas_vnr_area</th>\n",
       "      <th>...</th>\n",
       "      <th>wood_deck_sf</th>\n",
       "      <th>open_porch_sf</th>\n",
       "      <th>enclosed_porch</th>\n",
       "      <th>3ssn_porch</th>\n",
       "      <th>screen_porch</th>\n",
       "      <th>pool_area</th>\n",
       "      <th>misc_val</th>\n",
       "      <th>mo_sold</th>\n",
       "      <th>yr_sold</th>\n",
       "      <th>saleprice</th>\n",
       "    </tr>\n",
       "  </thead>\n",
       "  <tbody>\n",
       "    <tr>\n",
       "      <th>count</th>\n",
       "      <td>2051.000000</td>\n",
       "      <td>2.051000e+03</td>\n",
       "      <td>2051.000000</td>\n",
       "      <td>1721.000000</td>\n",
       "      <td>2051.000000</td>\n",
       "      <td>2051.000000</td>\n",
       "      <td>2051.000000</td>\n",
       "      <td>2051.000000</td>\n",
       "      <td>2051.000000</td>\n",
       "      <td>2029.000000</td>\n",
       "      <td>...</td>\n",
       "      <td>2051.000000</td>\n",
       "      <td>2051.000000</td>\n",
       "      <td>2051.000000</td>\n",
       "      <td>2051.000000</td>\n",
       "      <td>2051.000000</td>\n",
       "      <td>2051.000000</td>\n",
       "      <td>2051.000000</td>\n",
       "      <td>2051.000000</td>\n",
       "      <td>2051.000000</td>\n",
       "      <td>2051.000000</td>\n",
       "    </tr>\n",
       "    <tr>\n",
       "      <th>mean</th>\n",
       "      <td>1474.033642</td>\n",
       "      <td>7.135900e+08</td>\n",
       "      <td>57.008776</td>\n",
       "      <td>69.055200</td>\n",
       "      <td>10065.208191</td>\n",
       "      <td>6.112140</td>\n",
       "      <td>5.562165</td>\n",
       "      <td>1971.708922</td>\n",
       "      <td>1984.190151</td>\n",
       "      <td>99.695909</td>\n",
       "      <td>...</td>\n",
       "      <td>93.833740</td>\n",
       "      <td>47.556802</td>\n",
       "      <td>22.571916</td>\n",
       "      <td>2.591419</td>\n",
       "      <td>16.511458</td>\n",
       "      <td>2.397855</td>\n",
       "      <td>51.574354</td>\n",
       "      <td>6.219893</td>\n",
       "      <td>2007.775719</td>\n",
       "      <td>181469.701609</td>\n",
       "    </tr>\n",
       "    <tr>\n",
       "      <th>std</th>\n",
       "      <td>843.980841</td>\n",
       "      <td>1.886918e+08</td>\n",
       "      <td>42.824223</td>\n",
       "      <td>23.260653</td>\n",
       "      <td>6742.488909</td>\n",
       "      <td>1.426271</td>\n",
       "      <td>1.104497</td>\n",
       "      <td>30.177889</td>\n",
       "      <td>21.036250</td>\n",
       "      <td>174.963129</td>\n",
       "      <td>...</td>\n",
       "      <td>128.549416</td>\n",
       "      <td>66.747241</td>\n",
       "      <td>59.845110</td>\n",
       "      <td>25.229615</td>\n",
       "      <td>57.374204</td>\n",
       "      <td>37.782570</td>\n",
       "      <td>573.393985</td>\n",
       "      <td>2.744736</td>\n",
       "      <td>1.312014</td>\n",
       "      <td>79258.659352</td>\n",
       "    </tr>\n",
       "    <tr>\n",
       "      <th>min</th>\n",
       "      <td>1.000000</td>\n",
       "      <td>5.263011e+08</td>\n",
       "      <td>20.000000</td>\n",
       "      <td>21.000000</td>\n",
       "      <td>1300.000000</td>\n",
       "      <td>1.000000</td>\n",
       "      <td>1.000000</td>\n",
       "      <td>1872.000000</td>\n",
       "      <td>1950.000000</td>\n",
       "      <td>0.000000</td>\n",
       "      <td>...</td>\n",
       "      <td>0.000000</td>\n",
       "      <td>0.000000</td>\n",
       "      <td>0.000000</td>\n",
       "      <td>0.000000</td>\n",
       "      <td>0.000000</td>\n",
       "      <td>0.000000</td>\n",
       "      <td>0.000000</td>\n",
       "      <td>1.000000</td>\n",
       "      <td>2006.000000</td>\n",
       "      <td>12789.000000</td>\n",
       "    </tr>\n",
       "    <tr>\n",
       "      <th>25%</th>\n",
       "      <td>753.500000</td>\n",
       "      <td>5.284581e+08</td>\n",
       "      <td>20.000000</td>\n",
       "      <td>58.000000</td>\n",
       "      <td>7500.000000</td>\n",
       "      <td>5.000000</td>\n",
       "      <td>5.000000</td>\n",
       "      <td>1953.500000</td>\n",
       "      <td>1964.500000</td>\n",
       "      <td>0.000000</td>\n",
       "      <td>...</td>\n",
       "      <td>0.000000</td>\n",
       "      <td>0.000000</td>\n",
       "      <td>0.000000</td>\n",
       "      <td>0.000000</td>\n",
       "      <td>0.000000</td>\n",
       "      <td>0.000000</td>\n",
       "      <td>0.000000</td>\n",
       "      <td>4.000000</td>\n",
       "      <td>2007.000000</td>\n",
       "      <td>129825.000000</td>\n",
       "    </tr>\n",
       "    <tr>\n",
       "      <th>50%</th>\n",
       "      <td>1486.000000</td>\n",
       "      <td>5.354532e+08</td>\n",
       "      <td>50.000000</td>\n",
       "      <td>68.000000</td>\n",
       "      <td>9430.000000</td>\n",
       "      <td>6.000000</td>\n",
       "      <td>5.000000</td>\n",
       "      <td>1974.000000</td>\n",
       "      <td>1993.000000</td>\n",
       "      <td>0.000000</td>\n",
       "      <td>...</td>\n",
       "      <td>0.000000</td>\n",
       "      <td>27.000000</td>\n",
       "      <td>0.000000</td>\n",
       "      <td>0.000000</td>\n",
       "      <td>0.000000</td>\n",
       "      <td>0.000000</td>\n",
       "      <td>0.000000</td>\n",
       "      <td>6.000000</td>\n",
       "      <td>2008.000000</td>\n",
       "      <td>162500.000000</td>\n",
       "    </tr>\n",
       "    <tr>\n",
       "      <th>75%</th>\n",
       "      <td>2198.000000</td>\n",
       "      <td>9.071801e+08</td>\n",
       "      <td>70.000000</td>\n",
       "      <td>80.000000</td>\n",
       "      <td>11513.500000</td>\n",
       "      <td>7.000000</td>\n",
       "      <td>6.000000</td>\n",
       "      <td>2001.000000</td>\n",
       "      <td>2004.000000</td>\n",
       "      <td>161.000000</td>\n",
       "      <td>...</td>\n",
       "      <td>168.000000</td>\n",
       "      <td>70.000000</td>\n",
       "      <td>0.000000</td>\n",
       "      <td>0.000000</td>\n",
       "      <td>0.000000</td>\n",
       "      <td>0.000000</td>\n",
       "      <td>0.000000</td>\n",
       "      <td>8.000000</td>\n",
       "      <td>2009.000000</td>\n",
       "      <td>214000.000000</td>\n",
       "    </tr>\n",
       "    <tr>\n",
       "      <th>max</th>\n",
       "      <td>2930.000000</td>\n",
       "      <td>9.241520e+08</td>\n",
       "      <td>190.000000</td>\n",
       "      <td>313.000000</td>\n",
       "      <td>159000.000000</td>\n",
       "      <td>10.000000</td>\n",
       "      <td>9.000000</td>\n",
       "      <td>2010.000000</td>\n",
       "      <td>2010.000000</td>\n",
       "      <td>1600.000000</td>\n",
       "      <td>...</td>\n",
       "      <td>1424.000000</td>\n",
       "      <td>547.000000</td>\n",
       "      <td>432.000000</td>\n",
       "      <td>508.000000</td>\n",
       "      <td>490.000000</td>\n",
       "      <td>800.000000</td>\n",
       "      <td>17000.000000</td>\n",
       "      <td>12.000000</td>\n",
       "      <td>2010.000000</td>\n",
       "      <td>611657.000000</td>\n",
       "    </tr>\n",
       "  </tbody>\n",
       "</table>\n",
       "<p>8 rows × 39 columns</p>\n",
       "</div>"
      ],
      "text/plain": [
       "                id           pid  ms_subclass  lot_frontage       lot_area  \\\n",
       "count  2051.000000  2.051000e+03  2051.000000   1721.000000    2051.000000   \n",
       "mean   1474.033642  7.135900e+08    57.008776     69.055200   10065.208191   \n",
       "std     843.980841  1.886918e+08    42.824223     23.260653    6742.488909   \n",
       "min       1.000000  5.263011e+08    20.000000     21.000000    1300.000000   \n",
       "25%     753.500000  5.284581e+08    20.000000     58.000000    7500.000000   \n",
       "50%    1486.000000  5.354532e+08    50.000000     68.000000    9430.000000   \n",
       "75%    2198.000000  9.071801e+08    70.000000     80.000000   11513.500000   \n",
       "max    2930.000000  9.241520e+08   190.000000    313.000000  159000.000000   \n",
       "\n",
       "       overall_qual  overall_cond   year_built  year_remod/add  mas_vnr_area  \\\n",
       "count   2051.000000   2051.000000  2051.000000     2051.000000   2029.000000   \n",
       "mean       6.112140      5.562165  1971.708922     1984.190151     99.695909   \n",
       "std        1.426271      1.104497    30.177889       21.036250    174.963129   \n",
       "min        1.000000      1.000000  1872.000000     1950.000000      0.000000   \n",
       "25%        5.000000      5.000000  1953.500000     1964.500000      0.000000   \n",
       "50%        6.000000      5.000000  1974.000000     1993.000000      0.000000   \n",
       "75%        7.000000      6.000000  2001.000000     2004.000000    161.000000   \n",
       "max       10.000000      9.000000  2010.000000     2010.000000   1600.000000   \n",
       "\n",
       "       ...  wood_deck_sf  open_porch_sf  enclosed_porch   3ssn_porch  \\\n",
       "count  ...   2051.000000    2051.000000     2051.000000  2051.000000   \n",
       "mean   ...     93.833740      47.556802       22.571916     2.591419   \n",
       "std    ...    128.549416      66.747241       59.845110    25.229615   \n",
       "min    ...      0.000000       0.000000        0.000000     0.000000   \n",
       "25%    ...      0.000000       0.000000        0.000000     0.000000   \n",
       "50%    ...      0.000000      27.000000        0.000000     0.000000   \n",
       "75%    ...    168.000000      70.000000        0.000000     0.000000   \n",
       "max    ...   1424.000000     547.000000      432.000000   508.000000   \n",
       "\n",
       "       screen_porch    pool_area      misc_val      mo_sold      yr_sold  \\\n",
       "count   2051.000000  2051.000000   2051.000000  2051.000000  2051.000000   \n",
       "mean      16.511458     2.397855     51.574354     6.219893  2007.775719   \n",
       "std       57.374204    37.782570    573.393985     2.744736     1.312014   \n",
       "min        0.000000     0.000000      0.000000     1.000000  2006.000000   \n",
       "25%        0.000000     0.000000      0.000000     4.000000  2007.000000   \n",
       "50%        0.000000     0.000000      0.000000     6.000000  2008.000000   \n",
       "75%        0.000000     0.000000      0.000000     8.000000  2009.000000   \n",
       "max      490.000000   800.000000  17000.000000    12.000000  2010.000000   \n",
       "\n",
       "           saleprice  \n",
       "count    2051.000000  \n",
       "mean   181469.701609  \n",
       "std     79258.659352  \n",
       "min     12789.000000  \n",
       "25%    129825.000000  \n",
       "50%    162500.000000  \n",
       "75%    214000.000000  \n",
       "max    611657.000000  \n",
       "\n",
       "[8 rows x 39 columns]"
      ]
     },
     "execution_count": 53,
     "metadata": {},
     "output_type": "execute_result"
    }
   ],
   "source": [
    "# General look at numeric data\n",
    "df.describe()"
   ]
  },
  {
   "cell_type": "code",
   "execution_count": 54,
   "id": "6053f263",
   "metadata": {},
   "outputs": [],
   "source": [
    "# Function to search for specific columns\n",
    "def col_search(dataframe, search):\n",
    "    return[col for col in dataframe.columns if search in col]"
   ]
  },
  {
   "cell_type": "code",
   "execution_count": 55,
   "id": "c6f56e12",
   "metadata": {},
   "outputs": [],
   "source": [
    "# Seperated columns of note for testing\n",
    "# Base features\n",
    "base = ['id', 'saleprice']\n",
    "\n",
    "# Area\n",
    "area_df = df[base + col_search(df, 'sf') + col_search(df, 'area') + \n",
    "            ['enclosed_porch', '3ssn_porch', 'screen_porch',] +\n",
    "            ['full_bath', 'totrms_abvgrd', 'lot_frontage', 'half_bath', 'bedroom_abvgr']]\n",
    "\n",
    "# Quality\n",
    "qual_df = df[base + col_search(df, 'qual') + \n",
    "             col_search(df, 'cond')[2:] + \n",
    "            ['bsmt_exposure', 'bsmtfin_type_1']]\n",
    "\n",
    "# Location - Also contains other categorical features\n",
    "loc_df = df[base + ['ms_subclass', 'ms_zoning', 'neighborhood'] + \n",
    "           ['condition_1', 'condition_2', 'foundation']]\n",
    "\n",
    "# Details\n",
    "dtail_df = df[base +\n",
    "             ['year_remod/add', 'year_built', 'garage_yr_blt', 'sale_type', 'yr_sold', 'mo_sold'] + \n",
    "             ['fence', 'pool_qc', 'fireplaces', 'misc_val'] +\n",
    "             ['roof_matl', 'street', 'alley', 'utilities']]"
   ]
  },
  {
   "cell_type": "markdown",
   "id": "d9875e25",
   "metadata": {},
   "source": [
    "### Area"
   ]
  },
  {
   "cell_type": "code",
   "execution_count": 56,
   "id": "6833e35b",
   "metadata": {},
   "outputs": [
    {
     "data": {
      "text/plain": [
       "Index(['id', 'saleprice', 'bsmtfin_sf_1', 'bsmtfin_sf_2', 'bsmt_unf_sf',\n",
       "       'total_bsmt_sf', '1st_flr_sf', '2nd_flr_sf', 'low_qual_fin_sf',\n",
       "       'wood_deck_sf', 'open_porch_sf', 'lot_area', 'mas_vnr_area',\n",
       "       'gr_liv_area', 'garage_area', 'pool_area', 'enclosed_porch',\n",
       "       '3ssn_porch', 'screen_porch', 'full_bath', 'totrms_abvgrd',\n",
       "       'lot_frontage', 'half_bath', 'bedroom_abvgr'],\n",
       "      dtype='object')"
      ]
     },
     "execution_count": 56,
     "metadata": {},
     "output_type": "execute_result"
    }
   ],
   "source": [
    "# Area columns\n",
    "area_df.columns"
   ]
  },
  {
   "cell_type": "code",
   "execution_count": 57,
   "id": "8c423ae9",
   "metadata": {},
   "outputs": [],
   "source": [
    "# Fill na values with 0 since sf is numerical\n",
    "# area_df.isnull().sum().sum() --> 27 nulls, all columns are valid\n",
    "area_df = area_df.fillna(0)"
   ]
  },
  {
   "cell_type": "code",
   "execution_count": 58,
   "id": "a0c77f52",
   "metadata": {},
   "outputs": [
    {
     "data": {
      "image/png": "[encoded data removed]",
      "text/plain": [
       "<Figure size 360x720 with 2 Axes>"
      ]
     },
     "metadata": {
      "needs_background": "light"
     },
     "output_type": "display_data"
    }
   ],
   "source": [
    "# Heatmap relating to sale price\n",
    "plt.figure(figsize = (5, 10))\n",
    "sns.heatmap(area_df.corr()[['saleprice']].sort_values('saleprice'),\n",
    "            annot = True,\n",
    "            cmap = 'coolwarm',\n",
    "            vmin = -1, vmax = 1);"
   ]
  },
  {
   "cell_type": "code",
   "execution_count": 59,
   "id": "cdb3ab91",
   "metadata": {},
   "outputs": [],
   "source": [
    "# Isolate features with significant correlation\n",
    "# To prevent overfitting, only features with correlation higher than 10% will be considered\n",
    "area_df = area_df.drop(columns = ['enclosed_porch', 'low_qual_fin_sf', 'bsmtfin_sf_2', 'pool_area', '3ssn_porch'])"
   ]
  },
  {
   "cell_type": "code",
   "execution_count": 60,
   "id": "d6c9ef1d",
   "metadata": {},
   "outputs": [
    {
     "data": {
      "text/plain": [
       "id                 int64\n",
       "saleprice          int64\n",
       "bsmtfin_sf_1     float64\n",
       "bsmt_unf_sf      float64\n",
       "total_bsmt_sf    float64\n",
       "1st_flr_sf         int64\n",
       "2nd_flr_sf         int64\n",
       "wood_deck_sf       int64\n",
       "open_porch_sf      int64\n",
       "lot_area           int64\n",
       "mas_vnr_area     float64\n",
       "gr_liv_area        int64\n",
       "garage_area      float64\n",
       "screen_porch       int64\n",
       "full_bath          int64\n",
       "totrms_abvgrd      int64\n",
       "lot_frontage     float64\n",
       "half_bath          int64\n",
       "bedroom_abvgr      int64\n",
       "dtype: object"
      ]
     },
     "execution_count": 60,
     "metadata": {},
     "output_type": "execute_result"
    }
   ],
   "source": [
    "# Checking if dtypes are correct\n",
    "area_df.dtypes"
   ]
  },
  {
   "cell_type": "markdown",
   "id": "1ebddbd0",
   "metadata": {},
   "source": [
    "### Quality"
   ]
  },
  {
   "cell_type": "code",
   "execution_count": 61,
   "id": "91af1912",
   "metadata": {},
   "outputs": [
    {
     "data": {
      "text/plain": [
       "id                   0\n",
       "saleprice            0\n",
       "overall_qual         0\n",
       "exter_qual           0\n",
       "bsmt_qual           55\n",
       "low_qual_fin_sf      0\n",
       "kitchen_qual         0\n",
       "garage_qual        114\n",
       "overall_cond         0\n",
       "exter_cond           0\n",
       "bsmt_cond           55\n",
       "garage_cond        114\n",
       "bsmt_exposure       58\n",
       "bsmtfin_type_1      55\n",
       "dtype: int64"
      ]
     },
     "execution_count": 61,
     "metadata": {},
     "output_type": "execute_result"
    }
   ],
   "source": [
    "# All columns are valid, nulls will be changed to 0\n",
    "qual_df.isnull().sum()"
   ]
  },
  {
   "cell_type": "code",
   "execution_count": 62,
   "id": "f03d941b",
   "metadata": {},
   "outputs": [
    {
     "data": {
      "text/plain": [
       "Index(['id', 'saleprice', 'overall_qual', 'exter_qual', 'bsmt_qual',\n",
       "       'low_qual_fin_sf', 'kitchen_qual', 'garage_qual', 'overall_cond',\n",
       "       'exter_cond', 'bsmt_cond', 'garage_cond', 'bsmt_exposure',\n",
       "       'bsmtfin_type_1'],\n",
       "      dtype='object')"
      ]
     },
     "execution_count": 62,
     "metadata": {},
     "output_type": "execute_result"
    }
   ],
   "source": [
    "# Quality columns\n",
    "qual_df.columns"
   ]
  },
  {
   "cell_type": "code",
   "execution_count": 63,
   "id": "7a8f85b8",
   "metadata": {},
   "outputs": [
    {
     "data": {
      "text/html": [
       "<div>\n",
       "<style scoped>\n",
       "    .dataframe tbody tr th:only-of-type {\n",
       "        vertical-align: middle;\n",
       "    }\n",
       "\n",
       "    .dataframe tbody tr th {\n",
       "        vertical-align: top;\n",
       "    }\n",
       "\n",
       "    .dataframe thead th {\n",
       "        text-align: right;\n",
       "    }\n",
       "</style>\n",
       "<table border=\"1\" class=\"dataframe\">\n",
       "  <thead>\n",
       "    <tr style=\"text-align: right;\">\n",
       "      <th></th>\n",
       "      <th>id</th>\n",
       "      <th>saleprice</th>\n",
       "      <th>overall_qual</th>\n",
       "      <th>exter_qual</th>\n",
       "      <th>bsmt_qual</th>\n",
       "      <th>kitchen_qual</th>\n",
       "      <th>garage_qual</th>\n",
       "      <th>overall_cond</th>\n",
       "      <th>exter_cond</th>\n",
       "      <th>bsmt_cond</th>\n",
       "      <th>garage_cond</th>\n",
       "      <th>bsmt_exposure</th>\n",
       "      <th>bsmtfin_type_1</th>\n",
       "    </tr>\n",
       "  </thead>\n",
       "  <tbody>\n",
       "    <tr>\n",
       "      <th>0</th>\n",
       "      <td>109</td>\n",
       "      <td>130500</td>\n",
       "      <td>6</td>\n",
       "      <td>Gd</td>\n",
       "      <td>TA</td>\n",
       "      <td>Gd</td>\n",
       "      <td>TA</td>\n",
       "      <td>8</td>\n",
       "      <td>TA</td>\n",
       "      <td>TA</td>\n",
       "      <td>TA</td>\n",
       "      <td>No</td>\n",
       "      <td>GLQ</td>\n",
       "    </tr>\n",
       "    <tr>\n",
       "      <th>1</th>\n",
       "      <td>544</td>\n",
       "      <td>220000</td>\n",
       "      <td>7</td>\n",
       "      <td>Gd</td>\n",
       "      <td>Gd</td>\n",
       "      <td>Gd</td>\n",
       "      <td>TA</td>\n",
       "      <td>5</td>\n",
       "      <td>TA</td>\n",
       "      <td>TA</td>\n",
       "      <td>TA</td>\n",
       "      <td>No</td>\n",
       "      <td>GLQ</td>\n",
       "    </tr>\n",
       "    <tr>\n",
       "      <th>2</th>\n",
       "      <td>153</td>\n",
       "      <td>109000</td>\n",
       "      <td>5</td>\n",
       "      <td>TA</td>\n",
       "      <td>TA</td>\n",
       "      <td>Gd</td>\n",
       "      <td>TA</td>\n",
       "      <td>7</td>\n",
       "      <td>Gd</td>\n",
       "      <td>TA</td>\n",
       "      <td>TA</td>\n",
       "      <td>No</td>\n",
       "      <td>GLQ</td>\n",
       "    </tr>\n",
       "    <tr>\n",
       "      <th>3</th>\n",
       "      <td>318</td>\n",
       "      <td>174000</td>\n",
       "      <td>5</td>\n",
       "      <td>TA</td>\n",
       "      <td>Gd</td>\n",
       "      <td>TA</td>\n",
       "      <td>TA</td>\n",
       "      <td>5</td>\n",
       "      <td>TA</td>\n",
       "      <td>TA</td>\n",
       "      <td>TA</td>\n",
       "      <td>No</td>\n",
       "      <td>Unf</td>\n",
       "    </tr>\n",
       "    <tr>\n",
       "      <th>4</th>\n",
       "      <td>255</td>\n",
       "      <td>138500</td>\n",
       "      <td>6</td>\n",
       "      <td>TA</td>\n",
       "      <td>Fa</td>\n",
       "      <td>TA</td>\n",
       "      <td>TA</td>\n",
       "      <td>8</td>\n",
       "      <td>TA</td>\n",
       "      <td>Gd</td>\n",
       "      <td>TA</td>\n",
       "      <td>No</td>\n",
       "      <td>Unf</td>\n",
       "    </tr>\n",
       "  </tbody>\n",
       "</table>\n",
       "</div>"
      ],
      "text/plain": [
       "    id  saleprice  overall_qual exter_qual bsmt_qual kitchen_qual garage_qual  \\\n",
       "0  109     130500             6         Gd        TA           Gd          TA   \n",
       "1  544     220000             7         Gd        Gd           Gd          TA   \n",
       "2  153     109000             5         TA        TA           Gd          TA   \n",
       "3  318     174000             5         TA        Gd           TA          TA   \n",
       "4  255     138500             6         TA        Fa           TA          TA   \n",
       "\n",
       "   overall_cond exter_cond bsmt_cond garage_cond bsmt_exposure bsmtfin_type_1  \n",
       "0             8         TA        TA          TA            No            GLQ  \n",
       "1             5         TA        TA          TA            No            GLQ  \n",
       "2             7         Gd        TA          TA            No            GLQ  \n",
       "3             5         TA        TA          TA            No            Unf  \n",
       "4             8         TA        Gd          TA            No            Unf  "
      ]
     },
     "execution_count": 63,
     "metadata": {},
     "output_type": "execute_result"
    }
   ],
   "source": [
    "# Variables to change: exter_qual, bsmt_qual, kitchen_qual, garage_qual, bsmt_cond, garage_cond\n",
    "qual_df = qual_df.drop(columns = ['low_qual_fin_sf'])\n",
    "qual_df.head()"
   ]
  },
  {
   "cell_type": "code",
   "execution_count": 64,
   "id": "cda324ca",
   "metadata": {},
   "outputs": [],
   "source": [
    "# Functions to change categorical into nums\n",
    "def qual_num(row_val):\n",
    "    if row_val in ['Ex', 'GLQ']:\n",
    "        return 5\n",
    "    elif row_val in ['Gd', 'ALQ']:\n",
    "        return 4\n",
    "    elif row_val in ['Ta', 'Av', 'BLQ']:\n",
    "        return 3\n",
    "    elif row_val in ['Fa', 'Mn', 'Rec']:\n",
    "        return 2\n",
    "    elif row_val in ['Po', 'No', 'LwQ']:\n",
    "        return 1\n",
    "    else:\n",
    "        return 0\n",
    "    \n",
    "def qual_col(column):\n",
    "    return [qual_num(row) for row in column]\n",
    "\n",
    "def qual_change(dataframe, col_list):\n",
    "    for col in col_list:\n",
    "        dataframe[col] = qual_col(dataframe[col])"
   ]
  },
  {
   "cell_type": "code",
   "execution_count": 65,
   "id": "3175b63a",
   "metadata": {},
   "outputs": [
    {
     "data": {
      "text/html": [
       "<div>\n",
       "<style scoped>\n",
       "    .dataframe tbody tr th:only-of-type {\n",
       "        vertical-align: middle;\n",
       "    }\n",
       "\n",
       "    .dataframe tbody tr th {\n",
       "        vertical-align: top;\n",
       "    }\n",
       "\n",
       "    .dataframe thead th {\n",
       "        text-align: right;\n",
       "    }\n",
       "</style>\n",
       "<table border=\"1\" class=\"dataframe\">\n",
       "  <thead>\n",
       "    <tr style=\"text-align: right;\">\n",
       "      <th></th>\n",
       "      <th>id</th>\n",
       "      <th>saleprice</th>\n",
       "      <th>overall_qual</th>\n",
       "      <th>exter_qual</th>\n",
       "      <th>bsmt_qual</th>\n",
       "      <th>kitchen_qual</th>\n",
       "      <th>garage_qual</th>\n",
       "      <th>overall_cond</th>\n",
       "      <th>exter_cond</th>\n",
       "      <th>bsmt_cond</th>\n",
       "      <th>garage_cond</th>\n",
       "      <th>bsmt_exposure</th>\n",
       "      <th>bsmtfin_type_1</th>\n",
       "    </tr>\n",
       "  </thead>\n",
       "  <tbody>\n",
       "    <tr>\n",
       "      <th>0</th>\n",
       "      <td>109</td>\n",
       "      <td>130500</td>\n",
       "      <td>6</td>\n",
       "      <td>4</td>\n",
       "      <td>0</td>\n",
       "      <td>4</td>\n",
       "      <td>0</td>\n",
       "      <td>8</td>\n",
       "      <td>0</td>\n",
       "      <td>0</td>\n",
       "      <td>0</td>\n",
       "      <td>1</td>\n",
       "      <td>5</td>\n",
       "    </tr>\n",
       "    <tr>\n",
       "      <th>1</th>\n",
       "      <td>544</td>\n",
       "      <td>220000</td>\n",
       "      <td>7</td>\n",
       "      <td>4</td>\n",
       "      <td>4</td>\n",
       "      <td>4</td>\n",
       "      <td>0</td>\n",
       "      <td>5</td>\n",
       "      <td>0</td>\n",
       "      <td>0</td>\n",
       "      <td>0</td>\n",
       "      <td>1</td>\n",
       "      <td>5</td>\n",
       "    </tr>\n",
       "    <tr>\n",
       "      <th>2</th>\n",
       "      <td>153</td>\n",
       "      <td>109000</td>\n",
       "      <td>5</td>\n",
       "      <td>0</td>\n",
       "      <td>0</td>\n",
       "      <td>4</td>\n",
       "      <td>0</td>\n",
       "      <td>7</td>\n",
       "      <td>4</td>\n",
       "      <td>0</td>\n",
       "      <td>0</td>\n",
       "      <td>1</td>\n",
       "      <td>5</td>\n",
       "    </tr>\n",
       "    <tr>\n",
       "      <th>3</th>\n",
       "      <td>318</td>\n",
       "      <td>174000</td>\n",
       "      <td>5</td>\n",
       "      <td>0</td>\n",
       "      <td>4</td>\n",
       "      <td>0</td>\n",
       "      <td>0</td>\n",
       "      <td>5</td>\n",
       "      <td>0</td>\n",
       "      <td>0</td>\n",
       "      <td>0</td>\n",
       "      <td>1</td>\n",
       "      <td>0</td>\n",
       "    </tr>\n",
       "    <tr>\n",
       "      <th>4</th>\n",
       "      <td>255</td>\n",
       "      <td>138500</td>\n",
       "      <td>6</td>\n",
       "      <td>0</td>\n",
       "      <td>2</td>\n",
       "      <td>0</td>\n",
       "      <td>0</td>\n",
       "      <td>8</td>\n",
       "      <td>0</td>\n",
       "      <td>4</td>\n",
       "      <td>0</td>\n",
       "      <td>1</td>\n",
       "      <td>0</td>\n",
       "    </tr>\n",
       "  </tbody>\n",
       "</table>\n",
       "</div>"
      ],
      "text/plain": [
       "    id  saleprice  overall_qual  exter_qual  bsmt_qual  kitchen_qual  \\\n",
       "0  109     130500             6           4          0             4   \n",
       "1  544     220000             7           4          4             4   \n",
       "2  153     109000             5           0          0             4   \n",
       "3  318     174000             5           0          4             0   \n",
       "4  255     138500             6           0          2             0   \n",
       "\n",
       "   garage_qual  overall_cond  exter_cond  bsmt_cond  garage_cond  \\\n",
       "0            0             8           0          0            0   \n",
       "1            0             5           0          0            0   \n",
       "2            0             7           4          0            0   \n",
       "3            0             5           0          0            0   \n",
       "4            0             8           0          4            0   \n",
       "\n",
       "   bsmt_exposure  bsmtfin_type_1  \n",
       "0              1               5  \n",
       "1              1               5  \n",
       "2              1               5  \n",
       "3              1               0  \n",
       "4              1               0  "
      ]
     },
     "execution_count": 65,
     "metadata": {},
     "output_type": "execute_result"
    }
   ],
   "source": [
    "# Applying functions to proper columns\n",
    "num_cols = ['exter_qual', 'bsmt_qual', 'kitchen_qual', 'garage_qual', \\\n",
    "            'exter_cond', 'bsmt_cond', 'garage_cond',\\\n",
    "            'bsmt_exposure', 'bsmtfin_type_1']\n",
    "qual_change(qual_df, num_cols)\n",
    "qual_change(test_df, num_cols) # Mirror changes on test_df\n",
    "qual_df.head()"
   ]
  },
  {
   "cell_type": "code",
   "execution_count": 66,
   "id": "17f1e4f3",
   "metadata": {},
   "outputs": [
    {
     "data": {
      "text/plain": [
       "id                int64\n",
       "saleprice         int64\n",
       "overall_qual      int64\n",
       "exter_qual        int64\n",
       "bsmt_qual         int64\n",
       "kitchen_qual      int64\n",
       "garage_qual       int64\n",
       "overall_cond      int64\n",
       "exter_cond        int64\n",
       "bsmt_cond         int64\n",
       "garage_cond       int64\n",
       "bsmt_exposure     int64\n",
       "bsmtfin_type_1    int64\n",
       "dtype: object"
      ]
     },
     "execution_count": 66,
     "metadata": {},
     "output_type": "execute_result"
    }
   ],
   "source": [
    "# Checking if dtypes are correct\n",
    "qual_df.dtypes"
   ]
  },
  {
   "cell_type": "code",
   "execution_count": 67,
   "id": "63dacb80",
   "metadata": {},
   "outputs": [
    {
     "data": {
      "image/png": "[encoded data removed]",
      "text/plain": [
       "<Figure size 360x720 with 2 Axes>"
      ]
     },
     "metadata": {
      "needs_background": "light"
     },
     "output_type": "display_data"
    }
   ],
   "source": [
    "# Heatmap relating to sale price\n",
    "plt.figure(figsize = (5, 10))\n",
    "sns.heatmap(qual_df.corr()[['saleprice']].sort_values('saleprice'),\n",
    "            annot = True,\n",
    "            cmap = 'coolwarm',\n",
    "            vmin = -1, vmax = 1);"
   ]
  },
  {
   "cell_type": "code",
   "execution_count": 68,
   "id": "ea8dcfcf",
   "metadata": {},
   "outputs": [],
   "source": [
    "# Drop features lower than 10%\n",
    "qual_df = qual_df.drop(columns = ['overall_cond', 'exter_cond'])"
   ]
  },
  {
   "cell_type": "markdown",
   "id": "12782875",
   "metadata": {},
   "source": [
    "### Location"
   ]
  },
  {
   "cell_type": "code",
   "execution_count": 69,
   "id": "3c01ec83",
   "metadata": {},
   "outputs": [
    {
     "data": {
      "text/plain": [
       "id              0\n",
       "saleprice       0\n",
       "ms_subclass     0\n",
       "ms_zoning       0\n",
       "neighborhood    0\n",
       "condition_1     0\n",
       "condition_2     0\n",
       "foundation      0\n",
       "dtype: int64"
      ]
     },
     "execution_count": 69,
     "metadata": {},
     "output_type": "execute_result"
    }
   ],
   "source": [
    "# No null values found, no cleaning required\n",
    "loc_df.isnull().sum()"
   ]
  },
  {
   "cell_type": "code",
   "execution_count": 70,
   "id": "d1964f99",
   "metadata": {},
   "outputs": [
    {
     "data": {
      "text/plain": [
       "Index(['id', 'saleprice', 'ms_subclass', 'ms_zoning', 'neighborhood',\n",
       "       'condition_1', 'condition_2', 'foundation'],\n",
       "      dtype='object')"
      ]
     },
     "execution_count": 70,
     "metadata": {},
     "output_type": "execute_result"
    }
   ],
   "source": [
    "# Location columns\n",
    "loc_df.columns"
   ]
  },
  {
   "cell_type": "code",
   "execution_count": 71,
   "id": "6962faa1",
   "metadata": {},
   "outputs": [],
   "source": [
    "# Dropping condition_2 - Vast majority is the same (2025/2051)\n",
    "loc_df = loc_df.drop(columns = ['condition_2'])"
   ]
  },
  {
   "cell_type": "markdown",
   "id": "9dd04276",
   "metadata": {},
   "source": [
    "Features in loc_df will be dummified and tested during modeling"
   ]
  },
  {
   "cell_type": "markdown",
   "id": "e4b350cd",
   "metadata": {},
   "source": [
    "### Details"
   ]
  },
  {
   "cell_type": "code",
   "execution_count": 72,
   "id": "46b890b5",
   "metadata": {},
   "outputs": [
    {
     "data": {
      "text/plain": [
       "id                   0\n",
       "saleprice            0\n",
       "year_remod/add       0\n",
       "year_built           0\n",
       "garage_yr_blt      114\n",
       "sale_type            0\n",
       "yr_sold              0\n",
       "mo_sold              0\n",
       "fence             1651\n",
       "pool_qc           2042\n",
       "fireplaces           0\n",
       "misc_val             0\n",
       "roof_matl            0\n",
       "street               0\n",
       "alley             1911\n",
       "utilities            0\n",
       "dtype: int64"
      ]
     },
     "execution_count": 72,
     "metadata": {},
     "output_type": "execute_result"
    }
   ],
   "source": [
    "# Three columns are unusable due to severe lack of data\n",
    "dtail_df.isnull().sum()"
   ]
  },
  {
   "cell_type": "code",
   "execution_count": 73,
   "id": "706f853b",
   "metadata": {},
   "outputs": [
    {
     "data": {
      "text/html": [
       "<div>\n",
       "<style scoped>\n",
       "    .dataframe tbody tr th:only-of-type {\n",
       "        vertical-align: middle;\n",
       "    }\n",
       "\n",
       "    .dataframe tbody tr th {\n",
       "        vertical-align: top;\n",
       "    }\n",
       "\n",
       "    .dataframe thead th {\n",
       "        text-align: right;\n",
       "    }\n",
       "</style>\n",
       "<table border=\"1\" class=\"dataframe\">\n",
       "  <thead>\n",
       "    <tr style=\"text-align: right;\">\n",
       "      <th></th>\n",
       "      <th>id</th>\n",
       "      <th>saleprice</th>\n",
       "      <th>year_remod/add</th>\n",
       "      <th>year_built</th>\n",
       "      <th>garage_yr_blt</th>\n",
       "      <th>sale_type</th>\n",
       "      <th>yr_sold</th>\n",
       "      <th>mo_sold</th>\n",
       "      <th>fence</th>\n",
       "      <th>pool_qc</th>\n",
       "      <th>fireplaces</th>\n",
       "      <th>misc_val</th>\n",
       "      <th>roof_matl</th>\n",
       "      <th>street</th>\n",
       "      <th>alley</th>\n",
       "      <th>utilities</th>\n",
       "    </tr>\n",
       "  </thead>\n",
       "  <tbody>\n",
       "    <tr>\n",
       "      <th>0</th>\n",
       "      <td>109</td>\n",
       "      <td>130500</td>\n",
       "      <td>2005</td>\n",
       "      <td>1976</td>\n",
       "      <td>1976.0</td>\n",
       "      <td>WD</td>\n",
       "      <td>2010</td>\n",
       "      <td>3</td>\n",
       "      <td>NaN</td>\n",
       "      <td>NaN</td>\n",
       "      <td>0</td>\n",
       "      <td>0</td>\n",
       "      <td>CompShg</td>\n",
       "      <td>Pave</td>\n",
       "      <td>NaN</td>\n",
       "      <td>AllPub</td>\n",
       "    </tr>\n",
       "    <tr>\n",
       "      <th>1</th>\n",
       "      <td>544</td>\n",
       "      <td>220000</td>\n",
       "      <td>1997</td>\n",
       "      <td>1996</td>\n",
       "      <td>1997.0</td>\n",
       "      <td>WD</td>\n",
       "      <td>2009</td>\n",
       "      <td>4</td>\n",
       "      <td>NaN</td>\n",
       "      <td>NaN</td>\n",
       "      <td>1</td>\n",
       "      <td>0</td>\n",
       "      <td>CompShg</td>\n",
       "      <td>Pave</td>\n",
       "      <td>NaN</td>\n",
       "      <td>AllPub</td>\n",
       "    </tr>\n",
       "    <tr>\n",
       "      <th>2</th>\n",
       "      <td>153</td>\n",
       "      <td>109000</td>\n",
       "      <td>2007</td>\n",
       "      <td>1953</td>\n",
       "      <td>1953.0</td>\n",
       "      <td>WD</td>\n",
       "      <td>2010</td>\n",
       "      <td>1</td>\n",
       "      <td>NaN</td>\n",
       "      <td>NaN</td>\n",
       "      <td>0</td>\n",
       "      <td>0</td>\n",
       "      <td>CompShg</td>\n",
       "      <td>Pave</td>\n",
       "      <td>NaN</td>\n",
       "      <td>AllPub</td>\n",
       "    </tr>\n",
       "    <tr>\n",
       "      <th>3</th>\n",
       "      <td>318</td>\n",
       "      <td>174000</td>\n",
       "      <td>2007</td>\n",
       "      <td>2006</td>\n",
       "      <td>2007.0</td>\n",
       "      <td>WD</td>\n",
       "      <td>2010</td>\n",
       "      <td>4</td>\n",
       "      <td>NaN</td>\n",
       "      <td>NaN</td>\n",
       "      <td>0</td>\n",
       "      <td>0</td>\n",
       "      <td>CompShg</td>\n",
       "      <td>Pave</td>\n",
       "      <td>NaN</td>\n",
       "      <td>AllPub</td>\n",
       "    </tr>\n",
       "    <tr>\n",
       "      <th>4</th>\n",
       "      <td>255</td>\n",
       "      <td>138500</td>\n",
       "      <td>1993</td>\n",
       "      <td>1900</td>\n",
       "      <td>1957.0</td>\n",
       "      <td>WD</td>\n",
       "      <td>2010</td>\n",
       "      <td>3</td>\n",
       "      <td>NaN</td>\n",
       "      <td>NaN</td>\n",
       "      <td>0</td>\n",
       "      <td>0</td>\n",
       "      <td>CompShg</td>\n",
       "      <td>Pave</td>\n",
       "      <td>NaN</td>\n",
       "      <td>AllPub</td>\n",
       "    </tr>\n",
       "  </tbody>\n",
       "</table>\n",
       "</div>"
      ],
      "text/plain": [
       "    id  saleprice  year_remod/add  year_built  garage_yr_blt sale_type  \\\n",
       "0  109     130500            2005        1976         1976.0       WD    \n",
       "1  544     220000            1997        1996         1997.0       WD    \n",
       "2  153     109000            2007        1953         1953.0       WD    \n",
       "3  318     174000            2007        2006         2007.0       WD    \n",
       "4  255     138500            1993        1900         1957.0       WD    \n",
       "\n",
       "   yr_sold  mo_sold fence pool_qc  fireplaces  misc_val roof_matl street  \\\n",
       "0     2010        3   NaN     NaN           0         0   CompShg   Pave   \n",
       "1     2009        4   NaN     NaN           1         0   CompShg   Pave   \n",
       "2     2010        1   NaN     NaN           0         0   CompShg   Pave   \n",
       "3     2010        4   NaN     NaN           0         0   CompShg   Pave   \n",
       "4     2010        3   NaN     NaN           0         0   CompShg   Pave   \n",
       "\n",
       "  alley utilities  \n",
       "0   NaN    AllPub  \n",
       "1   NaN    AllPub  \n",
       "2   NaN    AllPub  \n",
       "3   NaN    AllPub  \n",
       "4   NaN    AllPub  "
      ]
     },
     "execution_count": 73,
     "metadata": {},
     "output_type": "execute_result"
    }
   ],
   "source": [
    "# Look at dataframe\n",
    "dtail_df.head()"
   ]
  },
  {
   "cell_type": "code",
   "execution_count": 74,
   "id": "e02280d6",
   "metadata": {},
   "outputs": [
    {
     "data": {
      "text/plain": [
       "AllPub    2049\n",
       "NoSewr       1\n",
       "NoSeWa       1\n",
       "Name: utilities, dtype: int64"
      ]
     },
     "execution_count": 74,
     "metadata": {},
     "output_type": "execute_result"
    }
   ],
   "source": [
    "# Utilities is too homogeneous\n",
    "dtail_df['utilities'].value_counts()"
   ]
  },
  {
   "cell_type": "code",
   "execution_count": 75,
   "id": "77048f4b",
   "metadata": {},
   "outputs": [
    {
     "data": {
      "text/plain": [
       "Pave    2044\n",
       "Grvl       7\n",
       "Name: street, dtype: int64"
      ]
     },
     "execution_count": 75,
     "metadata": {},
     "output_type": "execute_result"
    }
   ],
   "source": [
    "# Street is too homogeneous\n",
    "dtail_df['street'].value_counts()"
   ]
  },
  {
   "cell_type": "code",
   "execution_count": 76,
   "id": "6f635fc6",
   "metadata": {},
   "outputs": [
    {
     "data": {
      "text/plain": [
       "CompShg    2025\n",
       "Tar&Grv      15\n",
       "WdShngl       5\n",
       "WdShake       4\n",
       "ClyTile       1\n",
       "Membran       1\n",
       "Name: roof_matl, dtype: int64"
      ]
     },
     "execution_count": 76,
     "metadata": {},
     "output_type": "execute_result"
    }
   ],
   "source": [
    "# Roof Material is too homogeneous\n",
    "dtail_df['roof_matl'].value_counts()"
   ]
  },
  {
   "cell_type": "code",
   "execution_count": 77,
   "id": "55550048",
   "metadata": {},
   "outputs": [
    {
     "data": {
      "image/png": "[encoded data removed]",
      "text/plain": [
       "<Figure size 360x720 with 2 Axes>"
      ]
     },
     "metadata": {
      "needs_background": "light"
     },
     "output_type": "display_data"
    }
   ],
   "source": [
    "# Heatmap relating to sale price\n",
    "plt.figure(figsize = (5, 10))\n",
    "sns.heatmap(dtail_df.corr()[['saleprice']].sort_values('saleprice'),\n",
    "            annot = True,\n",
    "            cmap = 'coolwarm',\n",
    "            vmin = -1, vmax = 1);"
   ]
  },
  {
   "cell_type": "code",
   "execution_count": 78,
   "id": "feef9b58",
   "metadata": {},
   "outputs": [
    {
     "data": {
      "text/html": [
       "<div>\n",
       "<style scoped>\n",
       "    .dataframe tbody tr th:only-of-type {\n",
       "        vertical-align: middle;\n",
       "    }\n",
       "\n",
       "    .dataframe tbody tr th {\n",
       "        vertical-align: top;\n",
       "    }\n",
       "\n",
       "    .dataframe thead th {\n",
       "        text-align: right;\n",
       "    }\n",
       "</style>\n",
       "<table border=\"1\" class=\"dataframe\">\n",
       "  <thead>\n",
       "    <tr style=\"text-align: right;\">\n",
       "      <th></th>\n",
       "      <th>id</th>\n",
       "      <th>saleprice</th>\n",
       "      <th>year_remod/add</th>\n",
       "      <th>year_built</th>\n",
       "      <th>garage_yr_blt</th>\n",
       "      <th>sale_type</th>\n",
       "      <th>fireplaces</th>\n",
       "    </tr>\n",
       "  </thead>\n",
       "  <tbody>\n",
       "    <tr>\n",
       "      <th>0</th>\n",
       "      <td>109</td>\n",
       "      <td>130500</td>\n",
       "      <td>2005</td>\n",
       "      <td>1976</td>\n",
       "      <td>1976.0</td>\n",
       "      <td>WD</td>\n",
       "      <td>0</td>\n",
       "    </tr>\n",
       "    <tr>\n",
       "      <th>1</th>\n",
       "      <td>544</td>\n",
       "      <td>220000</td>\n",
       "      <td>1997</td>\n",
       "      <td>1996</td>\n",
       "      <td>1997.0</td>\n",
       "      <td>WD</td>\n",
       "      <td>1</td>\n",
       "    </tr>\n",
       "    <tr>\n",
       "      <th>2</th>\n",
       "      <td>153</td>\n",
       "      <td>109000</td>\n",
       "      <td>2007</td>\n",
       "      <td>1953</td>\n",
       "      <td>1953.0</td>\n",
       "      <td>WD</td>\n",
       "      <td>0</td>\n",
       "    </tr>\n",
       "    <tr>\n",
       "      <th>3</th>\n",
       "      <td>318</td>\n",
       "      <td>174000</td>\n",
       "      <td>2007</td>\n",
       "      <td>2006</td>\n",
       "      <td>2007.0</td>\n",
       "      <td>WD</td>\n",
       "      <td>0</td>\n",
       "    </tr>\n",
       "    <tr>\n",
       "      <th>4</th>\n",
       "      <td>255</td>\n",
       "      <td>138500</td>\n",
       "      <td>1993</td>\n",
       "      <td>1900</td>\n",
       "      <td>1957.0</td>\n",
       "      <td>WD</td>\n",
       "      <td>0</td>\n",
       "    </tr>\n",
       "    <tr>\n",
       "      <th>...</th>\n",
       "      <td>...</td>\n",
       "      <td>...</td>\n",
       "      <td>...</td>\n",
       "      <td>...</td>\n",
       "      <td>...</td>\n",
       "      <td>...</td>\n",
       "      <td>...</td>\n",
       "    </tr>\n",
       "    <tr>\n",
       "      <th>2046</th>\n",
       "      <td>1587</td>\n",
       "      <td>298751</td>\n",
       "      <td>2007</td>\n",
       "      <td>2007</td>\n",
       "      <td>2007.0</td>\n",
       "      <td>WD</td>\n",
       "      <td>1</td>\n",
       "    </tr>\n",
       "    <tr>\n",
       "      <th>2047</th>\n",
       "      <td>785</td>\n",
       "      <td>82500</td>\n",
       "      <td>1950</td>\n",
       "      <td>1940</td>\n",
       "      <td>1961.0</td>\n",
       "      <td>WD</td>\n",
       "      <td>0</td>\n",
       "    </tr>\n",
       "    <tr>\n",
       "      <th>2048</th>\n",
       "      <td>916</td>\n",
       "      <td>177000</td>\n",
       "      <td>1950</td>\n",
       "      <td>1928</td>\n",
       "      <td>1929.0</td>\n",
       "      <td>WD</td>\n",
       "      <td>1</td>\n",
       "    </tr>\n",
       "    <tr>\n",
       "      <th>2049</th>\n",
       "      <td>639</td>\n",
       "      <td>144000</td>\n",
       "      <td>1956</td>\n",
       "      <td>1956</td>\n",
       "      <td>1956.0</td>\n",
       "      <td>WD</td>\n",
       "      <td>2</td>\n",
       "    </tr>\n",
       "    <tr>\n",
       "      <th>2050</th>\n",
       "      <td>10</td>\n",
       "      <td>189000</td>\n",
       "      <td>1999</td>\n",
       "      <td>1999</td>\n",
       "      <td>1999.0</td>\n",
       "      <td>WD</td>\n",
       "      <td>1</td>\n",
       "    </tr>\n",
       "  </tbody>\n",
       "</table>\n",
       "<p>2051 rows × 7 columns</p>\n",
       "</div>"
      ],
      "text/plain": [
       "        id  saleprice  year_remod/add  year_built  garage_yr_blt sale_type  \\\n",
       "0      109     130500            2005        1976         1976.0       WD    \n",
       "1      544     220000            1997        1996         1997.0       WD    \n",
       "2      153     109000            2007        1953         1953.0       WD    \n",
       "3      318     174000            2007        2006         2007.0       WD    \n",
       "4      255     138500            1993        1900         1957.0       WD    \n",
       "...    ...        ...             ...         ...            ...       ...   \n",
       "2046  1587     298751            2007        2007         2007.0       WD    \n",
       "2047   785      82500            1950        1940         1961.0       WD    \n",
       "2048   916     177000            1950        1928         1929.0       WD    \n",
       "2049   639     144000            1956        1956         1956.0       WD    \n",
       "2050    10     189000            1999        1999         1999.0       WD    \n",
       "\n",
       "      fireplaces  \n",
       "0              0  \n",
       "1              1  \n",
       "2              0  \n",
       "3              0  \n",
       "4              0  \n",
       "...          ...  \n",
       "2046           1  \n",
       "2047           0  \n",
       "2048           1  \n",
       "2049           2  \n",
       "2050           1  \n",
       "\n",
       "[2051 rows x 7 columns]"
      ]
     },
     "execution_count": 78,
     "metadata": {},
     "output_type": "execute_result"
    }
   ],
   "source": [
    "# Drop bad columns and columns with correlation < 10%\n",
    "dtail_df = dtail_df.drop(columns = ['fence', 'pool_qc', 'alley', 'utilities', 'yr_sold', 'misc_val', 'mo_sold', 'street', 'roof_matl'])\n",
    "dtail_df"
   ]
  },
  {
   "cell_type": "code",
   "execution_count": 79,
   "id": "e5a89440",
   "metadata": {},
   "outputs": [
    {
     "data": {
      "text/plain": [
       "id                  0\n",
       "saleprice           0\n",
       "year_remod/add      0\n",
       "year_built          0\n",
       "garage_yr_blt     114\n",
       "sale_type           0\n",
       "fireplaces          0\n",
       "dtype: int64"
      ]
     },
     "execution_count": 79,
     "metadata": {},
     "output_type": "execute_result"
    }
   ],
   "source": [
    "# Secondary check for nulls\n",
    "dtail_df.isnull().sum()"
   ]
  },
  {
   "cell_type": "code",
   "execution_count": 80,
   "id": "c9ace897",
   "metadata": {},
   "outputs": [],
   "source": [
    "# Fill nulls with average since number of nulls is low\n",
    "dtail_df['garage_yr_blt'].fillna(dtail_df['garage_yr_blt'].mean(), inplace = True)\n",
    "test_df['garage_yr_blt'].fillna(test_df['garage_yr_blt'].mean(), inplace = True)"
   ]
  },
  {
   "cell_type": "code",
   "execution_count": 81,
   "id": "33b83dea",
   "metadata": {},
   "outputs": [
    {
     "data": {
      "text/plain": [
       "Index(['id', 'saleprice', 'year_remod/add', 'year_built', 'garage_yr_blt',\n",
       "       'sale_type', 'fireplaces'],\n",
       "      dtype='object')"
      ]
     },
     "execution_count": 81,
     "metadata": {},
     "output_type": "execute_result"
    }
   ],
   "source": [
    "# Detail columns\n",
    "dtail_df.columns"
   ]
  },
  {
   "cell_type": "markdown",
   "id": "f969228b",
   "metadata": {},
   "source": [
    "## Exporting"
   ]
  },
  {
   "cell_type": "code",
   "execution_count": 82,
   "id": "61ab535c",
   "metadata": {},
   "outputs": [],
   "source": [
    "# Remove duplicate saleprice\n",
    "full_df = area_df\n",
    "qual_df = qual_df.drop(columns = ['saleprice'])\n",
    "loc_df = loc_df.drop(columns = ['saleprice'])\n",
    "dtail_df = dtail_df.drop(columns = ['saleprice'])\n",
    "\n",
    "# Merge based on id\n",
    "full_df = full_df.merge(qual_df, how = 'outer', on = 'id')\n",
    "full_df = full_df.merge(loc_df, how = 'outer', on = 'id')\n",
    "full_df = full_df.merge(dtail_df, how = 'outer', on = 'id')"
   ]
  },
  {
   "cell_type": "code",
   "execution_count": 83,
   "id": "ff3f2481",
   "metadata": {},
   "outputs": [
    {
     "name": "stdout",
     "output_type": "stream",
     "text": [
      "0\n"
     ]
    },
    {
     "data": {
      "image/png": "[encoded data removed]",
      "text/plain": [
       "<Figure size 360x720 with 2 Axes>"
      ]
     },
     "metadata": {
      "needs_background": "light"
     },
     "output_type": "display_data"
    }
   ],
   "source": [
    "# Final check\n",
    "print(full_df.isnull().sum().sum())\n",
    "\n",
    "plt.figure(figsize = (5, 10))\n",
    "sns.heatmap(full_df.corr()[['saleprice']].sort_values('saleprice', ascending = False),\n",
    "            annot = True,\n",
    "            cmap = 'coolwarm',\n",
    "            vmin = -1, vmax = 1);"
   ]
  },
  {
   "cell_type": "code",
   "execution_count": 84,
   "id": "ed348371",
   "metadata": {},
   "outputs": [],
   "source": [
    "# Final pruning of low correlation columns\n",
    "full_df = full_df.drop(columns = ['garage_cond', 'ms_subclass', 'garage_qual', 'bsmt_cond'])"
   ]
  },
  {
   "cell_type": "code",
   "execution_count": 85,
   "id": "fe17d63e",
   "metadata": {},
   "outputs": [],
   "source": [
    "# Export full data into new csv\n",
    "full_df.to_csv('../datasets/clean_train.csv')"
   ]
  },
  {
   "cell_type": "code",
   "execution_count": 86,
   "id": "d30828e0",
   "metadata": {},
   "outputs": [],
   "source": [
    "# Final clean of test csv\n",
    "test_df = test_df[full_df.columns.drop('saleprice')]\n",
    "\n",
    "# test_df.isnull().sum() = 161, both relevant columns can be filled with 0\n",
    "test_df = test_df.fillna(0)"
   ]
  },
  {
   "cell_type": "code",
   "execution_count": 87,
   "id": "cd95860a",
   "metadata": {},
   "outputs": [],
   "source": [
    "# Export test data into new csv\n",
    "test_df = test_df[full_df.columns.drop('saleprice')]\n",
    "test_df.to_csv('../datasets/clean_test.csv')"
   ]
  }
 ],
 "metadata": {
  "kernelspec": {
   "display_name": "Python 3 (ipykernel)",
   "language": "python",
   "name": "python3"
  },
  "language_info": {
   "codemirror_mode": {
    "name": "ipython",
    "version": 3
   },
   "file_extension": ".py",
   "mimetype": "text/x-python",
   "name": "python",
   "nbconvert_exporter": "python",
   "pygments_lexer": "ipython3",
   "version": "3.8.8"
  }
 },
 "nbformat": 4,
 "nbformat_minor": 5
}
