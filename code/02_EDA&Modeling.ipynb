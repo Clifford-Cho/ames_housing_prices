{
 "cells": [
  {
   "cell_type": "markdown",
   "id": "bbcf9da4",
   "metadata": {},
   "source": [
    "# Identifying Ames, Iowa Housing Prices - EDA and Modeling"
   ]
  },
  {
   "cell_type": "markdown",
   "id": "4cdcfe4e",
   "metadata": {},
   "source": [
    "## Contents:\n",
    "- [Exploratory Data Analysis](#Exploratory-Data-Analysis)\n",
    "- [Modeling](#Modeling)\n",
    "    - [Dummies](#Dummies)\n",
    "    - [Linear Models](#Linear-Models)\n",
    "    - [Submission](#Submission)\n",
    "- [Conclusions and Recommendations](#Conclusions-and-Recommendations)"
   ]
  },
  {
   "cell_type": "markdown",
   "id": "74c0e020",
   "metadata": {},
   "source": [
    "## Exploratory Data Analysis"
   ]
  },
  {
   "cell_type": "code",
   "execution_count": 1,
   "id": "e040fde5",
   "metadata": {},
   "outputs": [],
   "source": [
    "# Import libraries\n",
    "import pandas as pd\n",
    "import numpy as np\n",
    "import matplotlib.pyplot as plt\n",
    "import seaborn as sns\n",
    "\n",
    "from sklearn.linear_model import LinearRegression, Lasso, Ridge\n",
    "from sklearn.model_selection import cross_val_score, train_test_split\n",
    "from sklearn.dummy import DummyRegressor\n",
    "from sklearn.metrics import r2_score"
   ]
  },
  {
   "cell_type": "code",
   "execution_count": 2,
   "id": "32988ca1",
   "metadata": {},
   "outputs": [],
   "source": [
    "# Import datasets\n",
    "df = pd.read_csv('../datasets/clean_train.csv', index_col = 0)\n",
    "test_df = pd.read_csv('../datasets/clean_test.csv', index_col = 0)"
   ]
  },
  {
   "cell_type": "code",
   "execution_count": 3,
   "id": "d8339dd5",
   "metadata": {
    "scrolled": true
   },
   "outputs": [
    {
     "data": {
      "text/html": [
       "<div>\n",
       "<style scoped>\n",
       "    .dataframe tbody tr th:only-of-type {\n",
       "        vertical-align: middle;\n",
       "    }\n",
       "\n",
       "    .dataframe tbody tr th {\n",
       "        vertical-align: top;\n",
       "    }\n",
       "\n",
       "    .dataframe thead th {\n",
       "        text-align: right;\n",
       "    }\n",
       "</style>\n",
       "<table border=\"1\" class=\"dataframe\">\n",
       "  <thead>\n",
       "    <tr style=\"text-align: right;\">\n",
       "      <th></th>\n",
       "      <th>id</th>\n",
       "      <th>saleprice</th>\n",
       "      <th>bsmtfin_sf_1</th>\n",
       "      <th>bsmt_unf_sf</th>\n",
       "      <th>total_bsmt_sf</th>\n",
       "      <th>1st_flr_sf</th>\n",
       "      <th>2nd_flr_sf</th>\n",
       "      <th>wood_deck_sf</th>\n",
       "      <th>open_porch_sf</th>\n",
       "      <th>lot_area</th>\n",
       "      <th>...</th>\n",
       "      <th>bsmtfin_type_1</th>\n",
       "      <th>ms_zoning</th>\n",
       "      <th>neighborhood</th>\n",
       "      <th>condition_1</th>\n",
       "      <th>foundation</th>\n",
       "      <th>year_remod/add</th>\n",
       "      <th>year_built</th>\n",
       "      <th>garage_yr_blt</th>\n",
       "      <th>sale_type</th>\n",
       "      <th>fireplaces</th>\n",
       "    </tr>\n",
       "  </thead>\n",
       "  <tbody>\n",
       "    <tr>\n",
       "      <th>0</th>\n",
       "      <td>109</td>\n",
       "      <td>130500</td>\n",
       "      <td>533.0</td>\n",
       "      <td>192.0</td>\n",
       "      <td>725.0</td>\n",
       "      <td>725</td>\n",
       "      <td>754</td>\n",
       "      <td>0</td>\n",
       "      <td>44</td>\n",
       "      <td>13517</td>\n",
       "      <td>...</td>\n",
       "      <td>5</td>\n",
       "      <td>RL</td>\n",
       "      <td>Sawyer</td>\n",
       "      <td>RRAe</td>\n",
       "      <td>CBlock</td>\n",
       "      <td>2005</td>\n",
       "      <td>1976</td>\n",
       "      <td>1976.0</td>\n",
       "      <td>WD</td>\n",
       "      <td>0</td>\n",
       "    </tr>\n",
       "    <tr>\n",
       "      <th>1</th>\n",
       "      <td>544</td>\n",
       "      <td>220000</td>\n",
       "      <td>637.0</td>\n",
       "      <td>276.0</td>\n",
       "      <td>913.0</td>\n",
       "      <td>913</td>\n",
       "      <td>1209</td>\n",
       "      <td>0</td>\n",
       "      <td>74</td>\n",
       "      <td>11492</td>\n",
       "      <td>...</td>\n",
       "      <td>5</td>\n",
       "      <td>RL</td>\n",
       "      <td>SawyerW</td>\n",
       "      <td>Norm</td>\n",
       "      <td>PConc</td>\n",
       "      <td>1997</td>\n",
       "      <td>1996</td>\n",
       "      <td>1997.0</td>\n",
       "      <td>WD</td>\n",
       "      <td>1</td>\n",
       "    </tr>\n",
       "    <tr>\n",
       "      <th>2</th>\n",
       "      <td>153</td>\n",
       "      <td>109000</td>\n",
       "      <td>731.0</td>\n",
       "      <td>326.0</td>\n",
       "      <td>1057.0</td>\n",
       "      <td>1057</td>\n",
       "      <td>0</td>\n",
       "      <td>0</td>\n",
       "      <td>52</td>\n",
       "      <td>7922</td>\n",
       "      <td>...</td>\n",
       "      <td>5</td>\n",
       "      <td>RL</td>\n",
       "      <td>NAmes</td>\n",
       "      <td>Norm</td>\n",
       "      <td>CBlock</td>\n",
       "      <td>2007</td>\n",
       "      <td>1953</td>\n",
       "      <td>1953.0</td>\n",
       "      <td>WD</td>\n",
       "      <td>0</td>\n",
       "    </tr>\n",
       "    <tr>\n",
       "      <th>3</th>\n",
       "      <td>318</td>\n",
       "      <td>174000</td>\n",
       "      <td>0.0</td>\n",
       "      <td>384.0</td>\n",
       "      <td>384.0</td>\n",
       "      <td>744</td>\n",
       "      <td>700</td>\n",
       "      <td>100</td>\n",
       "      <td>0</td>\n",
       "      <td>9802</td>\n",
       "      <td>...</td>\n",
       "      <td>0</td>\n",
       "      <td>RL</td>\n",
       "      <td>Timber</td>\n",
       "      <td>Norm</td>\n",
       "      <td>PConc</td>\n",
       "      <td>2007</td>\n",
       "      <td>2006</td>\n",
       "      <td>2007.0</td>\n",
       "      <td>WD</td>\n",
       "      <td>0</td>\n",
       "    </tr>\n",
       "    <tr>\n",
       "      <th>4</th>\n",
       "      <td>255</td>\n",
       "      <td>138500</td>\n",
       "      <td>0.0</td>\n",
       "      <td>676.0</td>\n",
       "      <td>676.0</td>\n",
       "      <td>831</td>\n",
       "      <td>614</td>\n",
       "      <td>0</td>\n",
       "      <td>59</td>\n",
       "      <td>14235</td>\n",
       "      <td>...</td>\n",
       "      <td>0</td>\n",
       "      <td>RL</td>\n",
       "      <td>SawyerW</td>\n",
       "      <td>Norm</td>\n",
       "      <td>PConc</td>\n",
       "      <td>1993</td>\n",
       "      <td>1900</td>\n",
       "      <td>1957.0</td>\n",
       "      <td>WD</td>\n",
       "      <td>0</td>\n",
       "    </tr>\n",
       "  </tbody>\n",
       "</table>\n",
       "<p>5 rows × 34 columns</p>\n",
       "</div>"
      ],
      "text/plain": [
       "    id  saleprice  bsmtfin_sf_1  bsmt_unf_sf  total_bsmt_sf  1st_flr_sf  \\\n",
       "0  109     130500         533.0        192.0          725.0         725   \n",
       "1  544     220000         637.0        276.0          913.0         913   \n",
       "2  153     109000         731.0        326.0         1057.0        1057   \n",
       "3  318     174000           0.0        384.0          384.0         744   \n",
       "4  255     138500           0.0        676.0          676.0         831   \n",
       "\n",
       "   2nd_flr_sf  wood_deck_sf  open_porch_sf  lot_area  ...  bsmtfin_type_1  \\\n",
       "0         754             0             44     13517  ...               5   \n",
       "1        1209             0             74     11492  ...               5   \n",
       "2           0             0             52      7922  ...               5   \n",
       "3         700           100              0      9802  ...               0   \n",
       "4         614             0             59     14235  ...               0   \n",
       "\n",
       "   ms_zoning  neighborhood  condition_1  foundation  year_remod/add  \\\n",
       "0         RL        Sawyer         RRAe      CBlock            2005   \n",
       "1         RL       SawyerW         Norm       PConc            1997   \n",
       "2         RL         NAmes         Norm      CBlock            2007   \n",
       "3         RL        Timber         Norm       PConc            2007   \n",
       "4         RL       SawyerW         Norm       PConc            1993   \n",
       "\n",
       "   year_built  garage_yr_blt  sale_type  fireplaces  \n",
       "0        1976         1976.0        WD            0  \n",
       "1        1996         1997.0        WD            1  \n",
       "2        1953         1953.0        WD            0  \n",
       "3        2006         2007.0        WD            0  \n",
       "4        1900         1957.0        WD            0  \n",
       "\n",
       "[5 rows x 34 columns]"
      ]
     },
     "execution_count": 3,
     "metadata": {},
     "output_type": "execute_result"
    }
   ],
   "source": [
    "# Look at training dataset\n",
    "df.head()"
   ]
  },
  {
   "cell_type": "code",
   "execution_count": 4,
   "id": "b7461209",
   "metadata": {},
   "outputs": [
    {
     "data": {
      "text/plain": [
       "id                  int64\n",
       "saleprice           int64\n",
       "bsmtfin_sf_1      float64\n",
       "bsmt_unf_sf       float64\n",
       "total_bsmt_sf     float64\n",
       "1st_flr_sf          int64\n",
       "2nd_flr_sf          int64\n",
       "wood_deck_sf        int64\n",
       "open_porch_sf       int64\n",
       "lot_area            int64\n",
       "mas_vnr_area      float64\n",
       "gr_liv_area         int64\n",
       "garage_area       float64\n",
       "screen_porch        int64\n",
       "full_bath           int64\n",
       "totrms_abvgrd       int64\n",
       "lot_frontage      float64\n",
       "half_bath           int64\n",
       "bedroom_abvgr       int64\n",
       "overall_qual        int64\n",
       "exter_qual          int64\n",
       "bsmt_qual           int64\n",
       "kitchen_qual        int64\n",
       "bsmt_exposure       int64\n",
       "bsmtfin_type_1      int64\n",
       "ms_zoning          object\n",
       "neighborhood       object\n",
       "condition_1        object\n",
       "foundation         object\n",
       "year_remod/add      int64\n",
       "year_built          int64\n",
       "garage_yr_blt     float64\n",
       "sale_type          object\n",
       "fireplaces          int64\n",
       "dtype: object"
      ]
     },
     "execution_count": 4,
     "metadata": {},
     "output_type": "execute_result"
    }
   ],
   "source": [
    "# Identifying dtypes - seeing what columns will become dummied for modeling\n",
    "to_dum_cols = ['ms_zoning', 'neighborhood', 'condition_1', 'foundation', 'bsmt_exposure', 'bsmtfin_type_1', 'sale_type']\n",
    "df.dtypes"
   ]
  },
  {
   "cell_type": "code",
   "execution_count": 5,
   "id": "acef11cb",
   "metadata": {},
   "outputs": [
    {
     "data": {
      "image/png": "[encoded data removed]",
      "text/plain": [
       "<Figure size 360x720 with 2 Axes>"
      ]
     },
     "metadata": {
      "needs_background": "light"
     },
     "output_type": "display_data"
    }
   ],
   "source": [
    "# Preliminary feature presentation\n",
    "plt.figure(figsize = (5, 10))\n",
    "sns.heatmap(df.corr()[['saleprice']].sort_values('saleprice', ascending = False),\n",
    "            annot = True,\n",
    "            cmap = 'coolwarm',\n",
    "            vmin = -1, vmax = 1);"
   ]
  },
  {
   "cell_type": "code",
   "execution_count": 6,
   "id": "37cf8c1e",
   "metadata": {},
   "outputs": [],
   "source": [
    "# Splitting features\n",
    "corr_df = df.corr()[['saleprice']]\n",
    "high_corr = corr_df[corr_df['saleprice'] > 0.5]\n",
    "low_corr = corr_df[corr_df['saleprice'] <= 0.5]\n",
    "\n",
    "all_ft = list(corr_df.index)\n",
    "\n",
    "low_ft = list(low_corr.index)\n",
    "low_ft.remove('id')\n",
    "\n",
    "high_ft = list(high_corr.index)\n",
    "high_ft.remove('saleprice')"
   ]
  },
  {
   "cell_type": "code",
   "execution_count": 7,
   "id": "1f03bac0",
   "metadata": {
    "scrolled": false
   },
   "outputs": [
    {
     "data": {
      "image/png": "[encoded data removed]",
      "text/plain": [
       "<Figure size 360x720 with 2 Axes>"
      ]
     },
     "metadata": {
      "needs_background": "light"
     },
     "output_type": "display_data"
    }
   ],
   "source": [
    "# High correlation features\n",
    "plt.figure(figsize = (5, 10))\n",
    "sns.heatmap(df[['saleprice']+high_ft].corr()[['saleprice']].sort_values('saleprice', ascending = False),\n",
    "            annot = True,\n",
    "            cmap = 'viridis',\n",
    "            vmin = 0.5, vmax = 1);"
   ]
  },
  {
   "cell_type": "code",
   "execution_count": 8,
   "id": "fb4f87eb",
   "metadata": {},
   "outputs": [
    {
     "data": {
      "image/png": "[encoded data removed]",
      "text/plain": [
       "<Figure size 1440x360 with 3 Axes>"
      ]
     },
     "metadata": {
      "needs_background": "light"
     },
     "output_type": "display_data"
    }
   ],
   "source": [
    "# Basic histogram subplots\n",
    "fig, ax = plt.subplots(1, 3, figsize = (20, 5))\n",
    "\n",
    "# Detail example\n",
    "ax[0].hist(df['year_built'], bins = 20)\n",
    "ax[0].set_xlabel('Year Built')\n",
    "ax[0].set_ylabel('Number of Houses')\n",
    "ax[0].set_title('Number of Houses built based on Age')\n",
    "\n",
    "# Area example\n",
    "ax[1].hist(df['gr_liv_area'], bins = 20)\n",
    "ax[1].set_xlabel('Above grade (ground) living area square feet')\n",
    "ax[1].set_ylabel('Number of Houses')\n",
    "ax[1].set_title('Square footage of houses')\n",
    "\n",
    "# Detail example\n",
    "ax[2].hist(df['full_bath'], bins = 20)\n",
    "ax[2].set_xlabel('Year Built')\n",
    "ax[2].set_ylabel('Number of Houses')\n",
    "ax[2].set_title('Number of Houses built based on Age');"
   ]
  },
  {
   "cell_type": "code",
   "execution_count": 9,
   "id": "6108a61f",
   "metadata": {
    "scrolled": false
   },
   "outputs": [
    {
     "data": {
      "image/png": "[encoded data removed]",
      "text/plain": [
       "<Figure size 432x288 with 1 Axes>"
      ]
     },
     "metadata": {
      "needs_background": "light"
     },
     "output_type": "display_data"
    }
   ],
   "source": [
    "# Quality example\n",
    "x_line, y_line = df['overall_qual'], df['saleprice']\n",
    "m, b = np.polyfit(x_line, y_line, 1)\n",
    "\n",
    "plt.scatter(x_line, y_line)\n",
    "plt.plot(x_line, m*x_line + b, c ='r')\n",
    "plt.xlabel('Quality')\n",
    "plt.ylabel('Sale Price')\n",
    "plt.title('Example of quality versus saleprice');"
   ]
  },
  {
   "cell_type": "markdown",
   "id": "bc7e5f76",
   "metadata": {},
   "source": [
    "## Modeling"
   ]
  },
  {
   "cell_type": "markdown",
   "id": "4ebc0b2e",
   "metadata": {},
   "source": [
    "### Dummies"
   ]
  },
  {
   "cell_type": "code",
   "execution_count": 10,
   "id": "410b8fb0",
   "metadata": {
    "scrolled": true
   },
   "outputs": [
    {
     "data": {
      "text/plain": [
       "['ms_zoning',\n",
       " 'neighborhood',\n",
       " 'condition_1',\n",
       " 'foundation',\n",
       " 'bsmt_exposure',\n",
       " 'bsmtfin_type_1',\n",
       " 'sale_type']"
      ]
     },
     "execution_count": 10,
     "metadata": {},
     "output_type": "execute_result"
    }
   ],
   "source": [
    "to_dum_cols"
   ]
  },
  {
   "cell_type": "code",
   "execution_count": 11,
   "id": "8fd72a79",
   "metadata": {},
   "outputs": [],
   "source": [
    "# Function to get tuple of dummy columns along with list of features for insertion\n",
    "def cat_dum(dataframe, column):\n",
    "    # Get dummies\n",
    "    dums = pd.get_dummies(dataframe[column])\n",
    "    dums = dums.iloc[:, 1:] # Drop one column due to redundancy\n",
    "    \n",
    "    # Get column names for feature insertion\n",
    "    dum_columns = dums.columns.values\n",
    "    dum_features = dum_columns.tolist()\n",
    "    \n",
    "    # Return tuple\n",
    "    return (dums, dum_features)"
   ]
  },
  {
   "cell_type": "code",
   "execution_count": 12,
   "id": "ae7607c8",
   "metadata": {},
   "outputs": [],
   "source": [
    "# Function to get see if feature is useful for modeling\n",
    "def test_relevance(dataframe, column):\n",
    "    # Get new dataframe for testing\n",
    "    to_merge, features = cat_dum(dataframe, column)\n",
    "    test_df = df\n",
    "    test_df = test_df.merge(to_merge, left_index = True, right_index = True)\n",
    "    \n",
    "    # Test features on linear regression model\n",
    "    lr = LinearRegression()\n",
    "    X = test_df[features]\n",
    "    y = test_df['saleprice']\n",
    "    \n",
    "    X_train, X_test, y_train, y_test = train_test_split(X, y, random_state = 42)\n",
    "    lr.fit(X_train, y_train)\n",
    "\n",
    "    # Cross_val_score not used due to overfitting\n",
    "    print('{}: Training score is {}., Test score is {}.'\\\n",
    "          .format(column, \\\n",
    "                  round(lr.score(X_train, y_train), 3), \\\n",
    "                  round(lr.score(X_test, y_test), 3)));"
   ]
  },
  {
   "cell_type": "code",
   "execution_count": 13,
   "id": "b999f6da",
   "metadata": {},
   "outputs": [],
   "source": [
    "# Function to merge dummies and return dummy features\n",
    "def merge_dfs(dataframe, column):\n",
    "    to_merge, features = cat_dum(dataframe, column)\n",
    "    test_df = dataframe\n",
    "    test_df = test_df.merge(to_merge, left_index = True, right_index = True)\n",
    "    # Return merged dataframe and feature names\n",
    "    return (test_df, features)"
   ]
  },
  {
   "cell_type": "code",
   "execution_count": 14,
   "id": "bd4e9c6b",
   "metadata": {
    "scrolled": false
   },
   "outputs": [
    {
     "name": "stdout",
     "output_type": "stream",
     "text": [
      "ms_zoning: Training score is 0.101., Test score is 0.138.\n",
      "neighborhood: Training score is 0.589., Test score is 0.54.\n",
      "condition_1: Training score is 0.048., Test score is 0.053.\n",
      "foundation: Training score is 0.282., Test score is 0.307.\n",
      "bsmt_exposure: Training score is 0.177., Test score is 0.245.\n",
      "bsmtfin_type_1: Training score is 0.219., Test score is 0.224.\n",
      "sale_type: Training score is 0.148., Test score is 0.124.\n"
     ]
    }
   ],
   "source": [
    "# Identifying relevant columns to use for modeling\n",
    "for col in to_dum_cols:\n",
    "    test_relevance(df, col)"
   ]
  },
  {
   "cell_type": "markdown",
   "id": "872c42ed",
   "metadata": {},
   "source": [
    "Relevant categorical columns to be used are ms_zoning, neighborhood, foundation, bsmtfin_type_1, sale_type.\n",
    "\n",
    "Others are disqualified due to not having a high enough score or large disparity between the scores."
   ]
  },
  {
   "cell_type": "code",
   "execution_count": 15,
   "id": "64e43fb5",
   "metadata": {
    "scrolled": true
   },
   "outputs": [
    {
     "name": "stdout",
     "output_type": "stream",
     "text": [
      "['Blueste', 'BrDale', 'BrkSide', 'ClearCr', 'CollgCr', 'Crawfor', 'Edwards', 'Gilbert', 'Greens', 'GrnHill', 'IDOTRR', 'Landmrk', 'MeadowV', 'Mitchel', 'NAmes', 'NPkVill', 'NWAmes', 'NoRidge', 'NridgHt', 'OldTown', 'SWISU', 'Sawyer', 'SawyerW', 'Somerst', 'StoneBr', 'Timber', 'Veenker', 'CBlock', 'PConc', 'Slab', 'Stone', 'Wood', 1, 2, 3, 4, 5, 'CWD', 'Con', 'ConLD', 'ConLI', 'ConLw', 'New', 'Oth', 'WD ']\n"
     ]
    },
    {
     "data": {
      "text/html": [
       "<div>\n",
       "<style scoped>\n",
       "    .dataframe tbody tr th:only-of-type {\n",
       "        vertical-align: middle;\n",
       "    }\n",
       "\n",
       "    .dataframe tbody tr th {\n",
       "        vertical-align: top;\n",
       "    }\n",
       "\n",
       "    .dataframe thead th {\n",
       "        text-align: right;\n",
       "    }\n",
       "</style>\n",
       "<table border=\"1\" class=\"dataframe\">\n",
       "  <thead>\n",
       "    <tr style=\"text-align: right;\">\n",
       "      <th></th>\n",
       "      <th>id</th>\n",
       "      <th>saleprice</th>\n",
       "      <th>bsmtfin_sf_1</th>\n",
       "      <th>bsmt_unf_sf</th>\n",
       "      <th>total_bsmt_sf</th>\n",
       "      <th>1st_flr_sf</th>\n",
       "      <th>2nd_flr_sf</th>\n",
       "      <th>wood_deck_sf</th>\n",
       "      <th>open_porch_sf</th>\n",
       "      <th>lot_area</th>\n",
       "      <th>...</th>\n",
       "      <th>4</th>\n",
       "      <th>5</th>\n",
       "      <th>CWD</th>\n",
       "      <th>Con</th>\n",
       "      <th>ConLD</th>\n",
       "      <th>ConLI</th>\n",
       "      <th>ConLw</th>\n",
       "      <th>New</th>\n",
       "      <th>Oth</th>\n",
       "      <th>WD</th>\n",
       "    </tr>\n",
       "  </thead>\n",
       "  <tbody>\n",
       "    <tr>\n",
       "      <th>0</th>\n",
       "      <td>109</td>\n",
       "      <td>130500</td>\n",
       "      <td>533.0</td>\n",
       "      <td>192.0</td>\n",
       "      <td>725.0</td>\n",
       "      <td>725</td>\n",
       "      <td>754</td>\n",
       "      <td>0</td>\n",
       "      <td>44</td>\n",
       "      <td>13517</td>\n",
       "      <td>...</td>\n",
       "      <td>0</td>\n",
       "      <td>1</td>\n",
       "      <td>0</td>\n",
       "      <td>0</td>\n",
       "      <td>0</td>\n",
       "      <td>0</td>\n",
       "      <td>0</td>\n",
       "      <td>0</td>\n",
       "      <td>0</td>\n",
       "      <td>1</td>\n",
       "    </tr>\n",
       "    <tr>\n",
       "      <th>1</th>\n",
       "      <td>544</td>\n",
       "      <td>220000</td>\n",
       "      <td>637.0</td>\n",
       "      <td>276.0</td>\n",
       "      <td>913.0</td>\n",
       "      <td>913</td>\n",
       "      <td>1209</td>\n",
       "      <td>0</td>\n",
       "      <td>74</td>\n",
       "      <td>11492</td>\n",
       "      <td>...</td>\n",
       "      <td>0</td>\n",
       "      <td>1</td>\n",
       "      <td>0</td>\n",
       "      <td>0</td>\n",
       "      <td>0</td>\n",
       "      <td>0</td>\n",
       "      <td>0</td>\n",
       "      <td>0</td>\n",
       "      <td>0</td>\n",
       "      <td>1</td>\n",
       "    </tr>\n",
       "    <tr>\n",
       "      <th>2</th>\n",
       "      <td>153</td>\n",
       "      <td>109000</td>\n",
       "      <td>731.0</td>\n",
       "      <td>326.0</td>\n",
       "      <td>1057.0</td>\n",
       "      <td>1057</td>\n",
       "      <td>0</td>\n",
       "      <td>0</td>\n",
       "      <td>52</td>\n",
       "      <td>7922</td>\n",
       "      <td>...</td>\n",
       "      <td>0</td>\n",
       "      <td>1</td>\n",
       "      <td>0</td>\n",
       "      <td>0</td>\n",
       "      <td>0</td>\n",
       "      <td>0</td>\n",
       "      <td>0</td>\n",
       "      <td>0</td>\n",
       "      <td>0</td>\n",
       "      <td>1</td>\n",
       "    </tr>\n",
       "    <tr>\n",
       "      <th>3</th>\n",
       "      <td>318</td>\n",
       "      <td>174000</td>\n",
       "      <td>0.0</td>\n",
       "      <td>384.0</td>\n",
       "      <td>384.0</td>\n",
       "      <td>744</td>\n",
       "      <td>700</td>\n",
       "      <td>100</td>\n",
       "      <td>0</td>\n",
       "      <td>9802</td>\n",
       "      <td>...</td>\n",
       "      <td>0</td>\n",
       "      <td>0</td>\n",
       "      <td>0</td>\n",
       "      <td>0</td>\n",
       "      <td>0</td>\n",
       "      <td>0</td>\n",
       "      <td>0</td>\n",
       "      <td>0</td>\n",
       "      <td>0</td>\n",
       "      <td>1</td>\n",
       "    </tr>\n",
       "    <tr>\n",
       "      <th>4</th>\n",
       "      <td>255</td>\n",
       "      <td>138500</td>\n",
       "      <td>0.0</td>\n",
       "      <td>676.0</td>\n",
       "      <td>676.0</td>\n",
       "      <td>831</td>\n",
       "      <td>614</td>\n",
       "      <td>0</td>\n",
       "      <td>59</td>\n",
       "      <td>14235</td>\n",
       "      <td>...</td>\n",
       "      <td>0</td>\n",
       "      <td>0</td>\n",
       "      <td>0</td>\n",
       "      <td>0</td>\n",
       "      <td>0</td>\n",
       "      <td>0</td>\n",
       "      <td>0</td>\n",
       "      <td>0</td>\n",
       "      <td>0</td>\n",
       "      <td>1</td>\n",
       "    </tr>\n",
       "  </tbody>\n",
       "</table>\n",
       "<p>5 rows × 79 columns</p>\n",
       "</div>"
      ],
      "text/plain": [
       "    id  saleprice  bsmtfin_sf_1  bsmt_unf_sf  total_bsmt_sf  1st_flr_sf  \\\n",
       "0  109     130500         533.0        192.0          725.0         725   \n",
       "1  544     220000         637.0        276.0          913.0         913   \n",
       "2  153     109000         731.0        326.0         1057.0        1057   \n",
       "3  318     174000           0.0        384.0          384.0         744   \n",
       "4  255     138500           0.0        676.0          676.0         831   \n",
       "\n",
       "   2nd_flr_sf  wood_deck_sf  open_porch_sf  lot_area  ...  4  5  CWD  Con  \\\n",
       "0         754             0             44     13517  ...  0  1    0    0   \n",
       "1        1209             0             74     11492  ...  0  1    0    0   \n",
       "2           0             0             52      7922  ...  0  1    0    0   \n",
       "3         700           100              0      9802  ...  0  0    0    0   \n",
       "4         614             0             59     14235  ...  0  0    0    0   \n",
       "\n",
       "   ConLD  ConLI  ConLw  New  Oth  WD   \n",
       "0      0      0      0    0    0    1  \n",
       "1      0      0      0    0    0    1  \n",
       "2      0      0      0    0    0    1  \n",
       "3      0      0      0    0    0    1  \n",
       "4      0      0      0    0    0    1  \n",
       "\n",
       "[5 rows x 79 columns]"
      ]
     },
     "execution_count": 15,
     "metadata": {},
     "output_type": "execute_result"
    }
   ],
   "source": [
    "# Create full dataframe\n",
    "cat_features = ['neighborhood', 'foundation', 'bsmtfin_type_1', 'sale_type']\n",
    "\n",
    "full_df = df\n",
    "dum_features = []\n",
    "for col in cat_features:\n",
    "    full_df = merge_dfs(full_df, col)[0]\n",
    "    dum_features = dum_features + merge_dfs(full_df,col)[1]\n",
    "    \n",
    "# Copy for test set\n",
    "dum_test_df = test_df\n",
    "test_features = []\n",
    "for col in cat_features:\n",
    "    dum_test_df = merge_dfs(dum_test_df, col)[0]\n",
    "    test_features = test_features + merge_dfs(dum_test_df, col)[1]\n",
    "    \n",
    "print(dum_features)\n",
    "full_df.head()"
   ]
  },
  {
   "cell_type": "markdown",
   "id": "6256829c",
   "metadata": {},
   "source": [
    "### Linear Models"
   ]
  },
  {
   "cell_type": "code",
   "execution_count": 16,
   "id": "7232d15e",
   "metadata": {
    "scrolled": true
   },
   "outputs": [
    {
     "data": {
      "text/plain": [
       "array([181469.70160897, 181469.70160897, 181469.70160897, ...,\n",
       "       181469.70160897, 181469.70160897, 181469.70160897])"
      ]
     },
     "execution_count": 16,
     "metadata": {},
     "output_type": "execute_result"
    }
   ],
   "source": [
    "# Baseline model - Kaggle base contains 181479.1217 as baseline\n",
    "dum = DummyRegressor()\n",
    "X = df[all_ft[2:]]\n",
    "y = df['saleprice']\n",
    "dum.fit(X, y)\n",
    "dum.predict(X)"
   ]
  },
  {
   "cell_type": "code",
   "execution_count": 17,
   "id": "b1c4ea99",
   "metadata": {},
   "outputs": [
    {
     "data": {
      "text/plain": [
       "(0.7883117153071549, 0.8481389303595085, 0.7676747087089897)"
      ]
     },
     "execution_count": 17,
     "metadata": {},
     "output_type": "execute_result"
    }
   ],
   "source": [
    "# Testing out model on highly correlating features\n",
    "lr = LinearRegression()\n",
    "features = high_ft\n",
    "X = df[features]\n",
    "y = df['saleprice']\n",
    "\n",
    "X_train, X_test, y_train, y_test = train_test_split(X, y, random_state = 42)\n",
    "lr.fit(X_train, y_train)\n",
    "\n",
    "lr.score(X_train, y_train), lr.score(X_test, y_test), cross_val_score(lr, X_train, y_train).mean()"
   ]
  },
  {
   "cell_type": "code",
   "execution_count": 18,
   "id": "7fa673d0",
   "metadata": {},
   "outputs": [
    {
     "data": {
      "text/plain": [
       "(0.6227419853069023, 0.6659676865007875, 0.5729081908394265)"
      ]
     },
     "execution_count": 18,
     "metadata": {},
     "output_type": "execute_result"
    }
   ],
   "source": [
    "# Testing out model on lower correlating features\n",
    "lr = LinearRegression()\n",
    "features = low_ft\n",
    "X = df[features]\n",
    "y = df['saleprice']\n",
    "\n",
    "X_train, X_test, y_train, y_test = train_test_split(X, y, random_state = 42)\n",
    "lr.fit(X_train, y_train)\n",
    "\n",
    "lr.score(X_train, y_train), lr.score(X_test, y_test), cross_val_score(lr, X_train, y_train).mean()"
   ]
  },
  {
   "cell_type": "code",
   "execution_count": 19,
   "id": "ab2c8d56",
   "metadata": {},
   "outputs": [
    {
     "data": {
      "text/plain": [
       "(0.814609074025425, 0.8632023615149071, 0.7749123170840552)"
      ]
     },
     "execution_count": 19,
     "metadata": {},
     "output_type": "execute_result"
    }
   ],
   "source": [
    "# Model using both sets of features\n",
    "lr = LinearRegression()\n",
    "features = high_ft + low_ft\n",
    "X = df[features]\n",
    "y = df['saleprice']\n",
    "\n",
    "X_train, X_test, y_train, y_test = train_test_split(X, y, random_state = 42)\n",
    "lr.fit(X_train, y_train)\n",
    "lr.score(X_train, y_train), lr.score(X_test, y_test), cross_val_score(lr, X_train, y_train).mean()"
   ]
  },
  {
   "cell_type": "code",
   "execution_count": 20,
   "id": "d2dffe1a",
   "metadata": {},
   "outputs": [
    {
     "data": {
      "text/plain": [
       "(0.8549819769419147, 0.8707076119866246, 0.8099230229173641)"
      ]
     },
     "execution_count": 20,
     "metadata": {},
     "output_type": "execute_result"
    }
   ],
   "source": [
    "# Model using both sets of features + dummy categories\n",
    "lr = LinearRegression()\n",
    "features = high_ft + low_ft + dum_features\n",
    "X = full_df[features]\n",
    "y = full_df['saleprice']\n",
    "\n",
    "X_train, X_test, y_train, y_test = train_test_split(X, y, random_state = 42)\n",
    "lr.fit(X_train, y_train)\n",
    "lr.score(X_train, y_train), lr.score(X_test, y_test), cross_val_score(lr, X_train, y_train).mean()"
   ]
  },
  {
   "cell_type": "code",
   "execution_count": 21,
   "id": "b83914d1",
   "metadata": {},
   "outputs": [
    {
     "data": {
      "text/plain": [
       "(0.6408226760499245, 0.5967385003548029, 0.6131959590459367)"
      ]
     },
     "execution_count": 21,
     "metadata": {},
     "output_type": "execute_result"
    }
   ],
   "source": [
    "# Model using only dummy categories\n",
    "lr = LinearRegression()\n",
    "features = dum_features\n",
    "X = full_df[features]\n",
    "y = full_df['saleprice']\n",
    "\n",
    "X_train, X_test, y_train, y_test = train_test_split(X, y, random_state = 42)\n",
    "lr.fit(X_train, y_train)\n",
    "lr.score(X_train, y_train), lr.score(X_test, y_test), cross_val_score(lr, X_train, y_train).mean()"
   ]
  },
  {
   "cell_type": "code",
   "execution_count": 22,
   "id": "ce3701f3",
   "metadata": {},
   "outputs": [],
   "source": [
    "def rounded(list):\n",
    "    return [round(num, 3) for num in list]"
   ]
  },
  {
   "cell_type": "code",
   "execution_count": 23,
   "id": "c9358491",
   "metadata": {},
   "outputs": [
    {
     "data": {
      "text/plain": [
       "[0.788, 0.848, 0.768]"
      ]
     },
     "execution_count": 23,
     "metadata": {},
     "output_type": "execute_result"
    }
   ],
   "source": [
    "rounded([0.7883117153071548, 0.8481389303595086, 0.7676747087089899])"
   ]
  },
  {
   "cell_type": "code",
   "execution_count": 24,
   "id": "afd7c7e8",
   "metadata": {},
   "outputs": [
    {
     "data": {
      "text/html": [
       "<div>\n",
       "<style scoped>\n",
       "    .dataframe tbody tr th:only-of-type {\n",
       "        vertical-align: middle;\n",
       "    }\n",
       "\n",
       "    .dataframe tbody tr th {\n",
       "        vertical-align: top;\n",
       "    }\n",
       "\n",
       "    .dataframe thead th {\n",
       "        text-align: right;\n",
       "    }\n",
       "</style>\n",
       "<table border=\"1\" class=\"dataframe\">\n",
       "  <thead>\n",
       "    <tr style=\"text-align: right;\">\n",
       "      <th></th>\n",
       "      <th>score</th>\n",
       "      <th>high_corr</th>\n",
       "      <th>low_corr</th>\n",
       "      <th>full_corr</th>\n",
       "      <th>cat</th>\n",
       "      <th>with_cat</th>\n",
       "    </tr>\n",
       "  </thead>\n",
       "  <tbody>\n",
       "    <tr>\n",
       "      <th>0</th>\n",
       "      <td>train</td>\n",
       "      <td>0.788</td>\n",
       "      <td>0.623</td>\n",
       "      <td>0.815</td>\n",
       "      <td>0.641</td>\n",
       "      <td>0.855</td>\n",
       "    </tr>\n",
       "    <tr>\n",
       "      <th>1</th>\n",
       "      <td>test</td>\n",
       "      <td>0.848</td>\n",
       "      <td>0.666</td>\n",
       "      <td>0.863</td>\n",
       "      <td>0.597</td>\n",
       "      <td>0.871</td>\n",
       "    </tr>\n",
       "    <tr>\n",
       "      <th>2</th>\n",
       "      <td>cross_val</td>\n",
       "      <td>0.768</td>\n",
       "      <td>0.573</td>\n",
       "      <td>0.775</td>\n",
       "      <td>0.613</td>\n",
       "      <td>0.810</td>\n",
       "    </tr>\n",
       "  </tbody>\n",
       "</table>\n",
       "</div>"
      ],
      "text/plain": [
       "       score  high_corr  low_corr  full_corr    cat  with_cat\n",
       "0      train      0.788     0.623      0.815  0.641     0.855\n",
       "1       test      0.848     0.666      0.863  0.597     0.871\n",
       "2  cross_val      0.768     0.573      0.775  0.613     0.810"
      ]
     },
     "execution_count": 24,
     "metadata": {},
     "output_type": "execute_result"
    }
   ],
   "source": [
    "pd.DataFrame({\n",
    "     'score': ['train', 'test', 'cross_val'],\n",
    "     'high_corr': rounded([0.7883117153071548, 0.8481389303595086, 0.7676747087089899]),\n",
    "     'low_corr': rounded([0.6227419853069022, 0.6659676865007871, 0.5729081908394268]),\n",
    "     'full_corr': rounded([0.8146090740254249, 0.8632023615149061, 0.7749123170840546]),\n",
    "     'cat': rounded([0.6408226760499245, 0.5967385003548031, 0.6131959590459367]),\n",
    "     'with_cat': rounded([0.8549819769419146, 0.8707076119866488, 0.8099230229174449])})"
   ]
  },
  {
   "cell_type": "markdown",
   "id": "c7add914",
   "metadata": {},
   "source": [
    "### Submission"
   ]
  },
  {
   "cell_type": "code",
   "execution_count": 25,
   "id": "335fa64b",
   "metadata": {},
   "outputs": [],
   "source": [
    "# # First try at combining test and train csvs\n",
    "# lr = LinearRegression()\n",
    "# features = high_ft + low_ft\n",
    "# X_train = df[features]\n",
    "# y_train = df['saleprice']\n",
    "\n",
    "# X_find = test_df[features]\n",
    "\n",
    "# lr.fit(X_train, y_train)\n",
    "\n",
    "# submit_id = test_df['id']\n",
    "# submit_saleprice = lr.predict(X_find)\n",
    "\n",
    "# submit_df = pd.DataFrame({'Id': submit_id, 'SalePrice': submit_saleprice})\n",
    "\n",
    "# submit_df = submit_df.sort_values('Id')\n",
    "# # submit_df = submit_df.reset_index(drop = True)\n",
    "# submit_df = submit_df.set_index('Id')\n",
    "# submit_df.to_csv('../datasets/submission1.csv')"
   ]
  },
  {
   "cell_type": "code",
   "execution_count": 26,
   "id": "7a660980",
   "metadata": {},
   "outputs": [],
   "source": [
    "# Submission with all features\n",
    "lr = LinearRegression()\n",
    "features = dum_features\n",
    "\n",
    "# Bug fix bandaid\n",
    "for i in ['GrnHill', 'Landmrk']:\n",
    "    features.remove(i)\n",
    "\n",
    "X = full_df[features]\n",
    "y = full_df['saleprice']\n",
    "X_train, X_test, y_train, y_test = train_test_split(X, y, random_state = 42)\n",
    "\n",
    "# Copy model, features, X, y above and change submission# for new submission\n",
    "X_find = dum_test_df[features]\n",
    "\n",
    "lr.fit(X_train, y_train)\n",
    "\n",
    "submit_id = dum_test_df['id']\n",
    "submit_saleprice = lr.predict(X_find)\n",
    "\n",
    "submit_df = pd.DataFrame({'Id': submit_id, 'SalePrice': submit_saleprice})\n",
    "\n",
    "submit_df = submit_df.sort_values('Id')\n",
    "# submit_df = submit_df.reset_index(drop = True)\n",
    "submit_df = submit_df.set_index('Id')\n",
    "submit_df.to_csv('../datasets/submission5.csv')"
   ]
  },
  {
   "cell_type": "markdown",
   "id": "bdd00f75",
   "metadata": {},
   "source": [
    "## Conclusions and Recommendations"
   ]
  },
  {
   "cell_type": "markdown",
   "id": "916d801d",
   "metadata": {},
   "source": [
    "This project was able to identify key factors in sale pricing. Overfitting was prominent along all numerical features. Location features predicted sale price surprisingly well. With the categorical features, the train and test scores were closer. Final predictive score was +80% and a RMSE score of ~31.5k was shown.\n",
    "\n",
    "Based on the numerical data, the two main factors were house quality and house space. This is to be expected as the quantity and quality of a good is usually the most important in a sale. However, it is shown that the space outside of the house, such as lot area, were significantly less of a factor in determining the price. Another factor that was important were house factors such as the number of bathrooms, bedrooms, and fireplaces. \n",
    "\n",
    "In order to get the highest sale price in a house, quality should be highly focused on. Visuals highlighting the relationship between quality and sale price has shown that price can vary hundreds of thousands of dollars based on the quality of the house. For anyone looking to improve the value of their house, I would highly recommend raising the quality and condition of the house."
   ]
  }
 ],
 "metadata": {
  "kernelspec": {
   "display_name": "Python 3",
   "language": "python",
   "name": "python3"
  },
  "language_info": {
   "codemirror_mode": {
    "name": "ipython",
    "version": 3
   },
   "file_extension": ".py",
   "mimetype": "text/x-python",
   "name": "python",
   "nbconvert_exporter": "python",
   "pygments_lexer": "ipython3",
   "version": "3.8.8"
  }
 },
 "nbformat": 4,
 "nbformat_minor": 5
}
